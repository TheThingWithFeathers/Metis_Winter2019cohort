{
 "cells": [
  {
   "cell_type": "code",
   "execution_count": 1,
   "metadata": {},
   "outputs": [],
   "source": [
    "import pandas as pd\n",
    "import numpy as np\n",
    "import pickle\n",
    "import re\n",
    "import guidedlda\n",
    "import nltk\n",
    "from nltk.corpus import stopwords\n",
    "stop_words = stopwords.words('english')\n",
    "stop_words.extend(['marijuana','weed','pot','cannabis'])\n",
    "\n",
    "import gensim\n",
    "import gensim.corpora as corpora\n",
    "from gensim.utils import simple_preprocess\n",
    "from gensim.models import CoherenceModel\n",
    "\n",
    "import spacy\n",
    "\n",
    "# Plotting tools\n",
    "import pyLDAvis\n",
    "import pyLDAvis.gensim  \n",
    "import matplotlib.pyplot as plt\n",
    "import seaborn as sns\n",
    "%matplotlib inline\n",
    "\n",
    "from sklearn.feature_extraction.text import CountVectorizer\n",
    "from sklearn.cluster import KMeans\n",
    "from gensim import corpora, models, similarities, matutils\n",
    "from pprint import pprint\n",
    "\n",
    "# logging for gensim (set to INFO)\n",
    "import logging\n",
    "logging.basicConfig(format='%(asctime)s : %(levelname)s : %(message)s', level=logging.ERROR)\n",
    "get_ipython().config.get('IPKernelApp', {})['parent_appname'] = \"\"\n",
    "\n",
    "import warnings\n",
    "warnings.filterwarnings(\"ignore\",category=DeprecationWarning)"
   ]
  },
  {
   "cell_type": "markdown",
   "metadata": {},
   "source": [
    "### Read in source data, clean and filter it"
   ]
  },
  {
   "cell_type": "code",
   "execution_count": 2,
   "metadata": {},
   "outputs": [],
   "source": [
    "#read in scraped data\n",
    "NYT_data = []\n",
    "\n",
    "for i in range(1,9):\n",
    "    filename = 'NYT_scrape_'+str(i)+'.pickle'\n",
    "    with open(filename,'rb') as read_file:\n",
    "        curr_data = pickle.load(read_file)\n",
    "    for entry in curr_data:\n",
    "        NYT_data.append(entry)"
   ]
  },
  {
   "cell_type": "code",
   "execution_count": 3,
   "metadata": {},
   "outputs": [],
   "source": [
    "#define a function that will clean up the date formatting in the text\n",
    "def fix_date(str):\n",
    "    if len(str) >= 12:\n",
    "        return str\n",
    "    elif str.find('ago')>=0:\n",
    "        return 'Feb. 18, 2019'\n",
    "    else:\n",
    "        return (str+', 2019')"
   ]
  },
  {
   "cell_type": "code",
   "execution_count": 4,
   "metadata": {},
   "outputs": [],
   "source": [
    "df_NYT = pd.DataFrame(NYT_data, columns=['Section','Headline','Description','Date'])\n",
    "\n",
    "df_NYT['Date'].replace({'March':'Mar.', 'April':'Apr.', 'May':'May.', 'June':'Jun.','July':'Jul.','Sept.':'Sep.'},\n",
    "                      regex=True, inplace=True)\n",
    "\n",
    "df_NYT['Date'] = df_NYT['Date'].map(lambda x: fix_date(x)) \n",
    "\n",
    "df_NYT['Date'] = pd.to_datetime(df_NYT.Date, format='%b. %d, %Y', errors='raise')\n",
    "df_NYT.sort_values(by=['Date','Section','Headline'],inplace=True)\n",
    "df_NYT.reset_index(inplace=True, drop=True)"
   ]
  },
  {
   "cell_type": "code",
   "execution_count": 5,
   "metadata": {},
   "outputs": [
    {
     "data": {
      "text/html": [
       "<div>\n",
       "<style scoped>\n",
       "    .dataframe tbody tr th:only-of-type {\n",
       "        vertical-align: middle;\n",
       "    }\n",
       "\n",
       "    .dataframe tbody tr th {\n",
       "        vertical-align: top;\n",
       "    }\n",
       "\n",
       "    .dataframe thead th {\n",
       "        text-align: right;\n",
       "    }\n",
       "</style>\n",
       "<table border=\"1\" class=\"dataframe\">\n",
       "  <thead>\n",
       "    <tr style=\"text-align: right;\">\n",
       "      <th></th>\n",
       "      <th>Section</th>\n",
       "      <th>Headline</th>\n",
       "      <th>Description</th>\n",
       "      <th>Date</th>\n",
       "    </tr>\n",
       "  </thead>\n",
       "  <tbody>\n",
       "    <tr>\n",
       "      <th>count</th>\n",
       "      <td>21803</td>\n",
       "      <td>21803</td>\n",
       "      <td>21803</td>\n",
       "      <td>21803</td>\n",
       "    </tr>\n",
       "    <tr>\n",
       "      <th>unique</th>\n",
       "      <td>350</td>\n",
       "      <td>20384</td>\n",
       "      <td>20576</td>\n",
       "      <td>11362</td>\n",
       "    </tr>\n",
       "    <tr>\n",
       "      <th>top</th>\n",
       "      <td></td>\n",
       "      <td>NEWS SUMMARY</td>\n",
       "      <td></td>\n",
       "      <td>2007-06-23 00:00:00</td>\n",
       "    </tr>\n",
       "    <tr>\n",
       "      <th>freq</th>\n",
       "      <td>5342</td>\n",
       "      <td>167</td>\n",
       "      <td>405</td>\n",
       "      <td>16</td>\n",
       "    </tr>\n",
       "    <tr>\n",
       "      <th>first</th>\n",
       "      <td>NaN</td>\n",
       "      <td>NaN</td>\n",
       "      <td>NaN</td>\n",
       "      <td>1926-11-20 00:00:00</td>\n",
       "    </tr>\n",
       "    <tr>\n",
       "      <th>last</th>\n",
       "      <td>NaN</td>\n",
       "      <td>NaN</td>\n",
       "      <td>NaN</td>\n",
       "      <td>2019-02-18 00:00:00</td>\n",
       "    </tr>\n",
       "  </tbody>\n",
       "</table>\n",
       "</div>"
      ],
      "text/plain": [
       "       Section      Headline Description                 Date\n",
       "count    21803         21803       21803                21803\n",
       "unique     350         20384       20576                11362\n",
       "top             NEWS SUMMARY              2007-06-23 00:00:00\n",
       "freq      5342           167         405                   16\n",
       "first      NaN           NaN         NaN  1926-11-20 00:00:00\n",
       "last       NaN           NaN         NaN  2019-02-18 00:00:00"
      ]
     },
     "execution_count": 5,
     "metadata": {},
     "output_type": "execute_result"
    }
   ],
   "source": [
    "df_NYT.describe()"
   ]
  },
  {
   "cell_type": "code",
   "execution_count": 6,
   "metadata": {},
   "outputs": [],
   "source": [
    "#export data to JSON to visually examine using Tableau\n",
    "#df_NYT.to_json(orient='table',path_or_buf='data.json')"
   ]
  },
  {
   "cell_type": "code",
   "execution_count": 7,
   "metadata": {},
   "outputs": [
    {
     "data": {
      "text/html": [
       "<div>\n",
       "<style scoped>\n",
       "    .dataframe tbody tr th:only-of-type {\n",
       "        vertical-align: middle;\n",
       "    }\n",
       "\n",
       "    .dataframe tbody tr th {\n",
       "        vertical-align: top;\n",
       "    }\n",
       "\n",
       "    .dataframe thead th {\n",
       "        text-align: right;\n",
       "    }\n",
       "</style>\n",
       "<table border=\"1\" class=\"dataframe\">\n",
       "  <thead>\n",
       "    <tr style=\"text-align: right;\">\n",
       "      <th></th>\n",
       "      <th>Section</th>\n",
       "      <th>Headline</th>\n",
       "      <th>Description</th>\n",
       "      <th>Date</th>\n",
       "    </tr>\n",
       "  </thead>\n",
       "  <tbody>\n",
       "    <tr>\n",
       "      <th>0</th>\n",
       "      <td></td>\n",
       "      <td>MARIJUANA SMOKING IS REPORTED SAFE; Hemp Leave...</td>\n",
       "      <td>PANAMA, Nov.</td>\n",
       "      <td>1926-11-20</td>\n",
       "    </tr>\n",
       "    <tr>\n",
       "      <th>1</th>\n",
       "      <td></td>\n",
       "      <td>Government Will Ask States To Ban Growing of M...</td>\n",
       "      <td></td>\n",
       "      <td>1931-09-15</td>\n",
       "    </tr>\n",
       "    <tr>\n",
       "      <th>2</th>\n",
       "      <td></td>\n",
       "      <td>Dope Ring Specialized In Mexican Marijuana</td>\n",
       "      <td>Dope ring specializing in marijuana arrested</td>\n",
       "      <td>1933-12-02</td>\n",
       "    </tr>\n",
       "    <tr>\n",
       "      <th>3</th>\n",
       "      <td></td>\n",
       "      <td>USE OF MARIJUANA SPREADING IN WEST; Poisonous ...</td>\n",
       "      <td>DENVER, Sept. 13. -- Although as appalling in ...</td>\n",
       "      <td>1934-09-15</td>\n",
       "    </tr>\n",
       "    <tr>\n",
       "      <th>4</th>\n",
       "      <td></td>\n",
       "      <td>RHODE ISLAND TO END WEED AS DRUG SOURCE; State...</td>\n",
       "      <td>PROVIDENCE, R.I., Jan. 19. -Rhode Island autho...</td>\n",
       "      <td>1935-01-19</td>\n",
       "    </tr>\n",
       "  </tbody>\n",
       "</table>\n",
       "</div>"
      ],
      "text/plain": [
       "  Section                                           Headline  \\\n",
       "0          MARIJUANA SMOKING IS REPORTED SAFE; Hemp Leave...   \n",
       "1          Government Will Ask States To Ban Growing of M...   \n",
       "2                 Dope Ring Specialized In Mexican Marijuana   \n",
       "3          USE OF MARIJUANA SPREADING IN WEST; Poisonous ...   \n",
       "4          RHODE ISLAND TO END WEED AS DRUG SOURCE; State...   \n",
       "\n",
       "                                         Description       Date  \n",
       "0                                       PANAMA, Nov. 1926-11-20  \n",
       "1                                                    1931-09-15  \n",
       "2       Dope ring specializing in marijuana arrested 1933-12-02  \n",
       "3  DENVER, Sept. 13. -- Although as appalling in ... 1934-09-15  \n",
       "4  PROVIDENCE, R.I., Jan. 19. -Rhode Island autho... 1935-01-19  "
      ]
     },
     "execution_count": 7,
     "metadata": {},
     "output_type": "execute_result"
    }
   ],
   "source": [
    "df_NYT.head()"
   ]
  },
  {
   "cell_type": "code",
   "execution_count": 8,
   "metadata": {},
   "outputs": [],
   "source": [
    "df_NYT['Full_Text'] = df_NYT['Headline']+' '+df_NYT['Description']\n",
    "df_NYT.drop(columns=['Headline','Description'],inplace=True)"
   ]
  },
  {
   "cell_type": "code",
   "execution_count": 9,
   "metadata": {},
   "outputs": [
    {
     "data": {
      "text/html": [
       "<div>\n",
       "<style scoped>\n",
       "    .dataframe tbody tr th:only-of-type {\n",
       "        vertical-align: middle;\n",
       "    }\n",
       "\n",
       "    .dataframe tbody tr th {\n",
       "        vertical-align: top;\n",
       "    }\n",
       "\n",
       "    .dataframe thead th {\n",
       "        text-align: right;\n",
       "    }\n",
       "</style>\n",
       "<table border=\"1\" class=\"dataframe\">\n",
       "  <thead>\n",
       "    <tr style=\"text-align: right;\">\n",
       "      <th></th>\n",
       "      <th>Section</th>\n",
       "      <th>Date</th>\n",
       "      <th>Full_Text</th>\n",
       "      <th>Work_Text</th>\n",
       "    </tr>\n",
       "  </thead>\n",
       "  <tbody>\n",
       "    <tr>\n",
       "      <th>0</th>\n",
       "      <td></td>\n",
       "      <td>1926-11-20</td>\n",
       "      <td>MARIJUANA SMOKING IS REPORTED SAFE; Hemp Leave...</td>\n",
       "      <td>marijuana smoking is reported safe; hemp leave...</td>\n",
       "    </tr>\n",
       "    <tr>\n",
       "      <th>1</th>\n",
       "      <td></td>\n",
       "      <td>1931-09-15</td>\n",
       "      <td>Government Will Ask States To Ban Growing of M...</td>\n",
       "      <td>government will ask states to ban growing of m...</td>\n",
       "    </tr>\n",
       "    <tr>\n",
       "      <th>2</th>\n",
       "      <td></td>\n",
       "      <td>1933-12-02</td>\n",
       "      <td>Dope Ring Specialized In Mexican Marijuana Dop...</td>\n",
       "      <td>dope ring specialized in mexican marijuana dop...</td>\n",
       "    </tr>\n",
       "    <tr>\n",
       "      <th>3</th>\n",
       "      <td></td>\n",
       "      <td>1934-09-15</td>\n",
       "      <td>USE OF MARIJUANA SPREADING IN WEST; Poisonous ...</td>\n",
       "      <td>use of marijuana spreading in west; poisonous ...</td>\n",
       "    </tr>\n",
       "    <tr>\n",
       "      <th>4</th>\n",
       "      <td></td>\n",
       "      <td>1935-01-19</td>\n",
       "      <td>RHODE ISLAND TO END WEED AS DRUG SOURCE; State...</td>\n",
       "      <td>rhode island to end weed as drug source; state...</td>\n",
       "    </tr>\n",
       "  </tbody>\n",
       "</table>\n",
       "</div>"
      ],
      "text/plain": [
       "  Section       Date                                          Full_Text  \\\n",
       "0         1926-11-20  MARIJUANA SMOKING IS REPORTED SAFE; Hemp Leave...   \n",
       "1         1931-09-15  Government Will Ask States To Ban Growing of M...   \n",
       "2         1933-12-02  Dope Ring Specialized In Mexican Marijuana Dop...   \n",
       "3         1934-09-15  USE OF MARIJUANA SPREADING IN WEST; Poisonous ...   \n",
       "4         1935-01-19  RHODE ISLAND TO END WEED AS DRUG SOURCE; State...   \n",
       "\n",
       "                                           Work_Text  \n",
       "0  marijuana smoking is reported safe; hemp leave...  \n",
       "1  government will ask states to ban growing of m...  \n",
       "2  dope ring specialized in mexican marijuana dop...  \n",
       "3  use of marijuana spreading in west; poisonous ...  \n",
       "4  rhode island to end weed as drug source; state...  "
      ]
     },
     "execution_count": 9,
     "metadata": {},
     "output_type": "execute_result"
    }
   ],
   "source": [
    "df_NYT['Work_Text'] = df_NYT['Full_Text'].str.lower()\n",
    "df_NYT.head()"
   ]
  },
  {
   "cell_type": "code",
   "execution_count": 10,
   "metadata": {},
   "outputs": [],
   "source": [
    "#keep only the articles with direct references to marijuana in the headline or description\n",
    "filt1 = df_NYT['Work_Text'].str.contains('marijuana') | \\\n",
    "        df_NYT['Work_Text'].str.contains('weed') | \\\n",
    "        df_NYT['Work_Text'].str.contains('cannabis') | \\\n",
    "        df_NYT['Work_Text'].str.contains('pot.')"
   ]
  },
  {
   "cell_type": "code",
   "execution_count": 11,
   "metadata": {},
   "outputs": [],
   "source": [
    "df_NYT = df_NYT[filt1]"
   ]
  },
  {
   "cell_type": "code",
   "execution_count": 12,
   "metadata": {},
   "outputs": [],
   "source": [
    "filt2 = (df_NYT['Date'] >= '1966-01-01') & (df_NYT['Section'] != 'BRIEFING')\n",
    "df_NYT = df_NYT[filt2]"
   ]
  },
  {
   "cell_type": "code",
   "execution_count": 13,
   "metadata": {},
   "outputs": [
    {
     "data": {
      "text/html": [
       "<div>\n",
       "<style scoped>\n",
       "    .dataframe tbody tr th:only-of-type {\n",
       "        vertical-align: middle;\n",
       "    }\n",
       "\n",
       "    .dataframe tbody tr th {\n",
       "        vertical-align: top;\n",
       "    }\n",
       "\n",
       "    .dataframe thead th {\n",
       "        text-align: right;\n",
       "    }\n",
       "</style>\n",
       "<table border=\"1\" class=\"dataframe\">\n",
       "  <thead>\n",
       "    <tr style=\"text-align: right;\">\n",
       "      <th></th>\n",
       "      <th>Section</th>\n",
       "      <th>Date</th>\n",
       "      <th>Full_Text</th>\n",
       "      <th>Work_Text</th>\n",
       "    </tr>\n",
       "  </thead>\n",
       "  <tbody>\n",
       "    <tr>\n",
       "      <th>count</th>\n",
       "      <td>4646</td>\n",
       "      <td>4646</td>\n",
       "      <td>4646</td>\n",
       "      <td>4646</td>\n",
       "    </tr>\n",
       "    <tr>\n",
       "      <th>unique</th>\n",
       "      <td>166</td>\n",
       "      <td>3664</td>\n",
       "      <td>4598</td>\n",
       "      <td>4597</td>\n",
       "    </tr>\n",
       "    <tr>\n",
       "      <th>top</th>\n",
       "      <td></td>\n",
       "      <td>2007-06-23 00:00:00</td>\n",
       "      <td>A Critical Need For Medical Marijuana To the E...</td>\n",
       "      <td>a critical need for medical marijuana to the e...</td>\n",
       "    </tr>\n",
       "    <tr>\n",
       "      <th>freq</th>\n",
       "      <td>1584</td>\n",
       "      <td>15</td>\n",
       "      <td>9</td>\n",
       "      <td>9</td>\n",
       "    </tr>\n",
       "    <tr>\n",
       "      <th>first</th>\n",
       "      <td>NaN</td>\n",
       "      <td>1966-01-09 00:00:00</td>\n",
       "      <td>NaN</td>\n",
       "      <td>NaN</td>\n",
       "    </tr>\n",
       "    <tr>\n",
       "      <th>last</th>\n",
       "      <td>NaN</td>\n",
       "      <td>2019-02-18 00:00:00</td>\n",
       "      <td>NaN</td>\n",
       "      <td>NaN</td>\n",
       "    </tr>\n",
       "  </tbody>\n",
       "</table>\n",
       "</div>"
      ],
      "text/plain": [
       "       Section                 Date  \\\n",
       "count     4646                 4646   \n",
       "unique     166                 3664   \n",
       "top             2007-06-23 00:00:00   \n",
       "freq      1584                   15   \n",
       "first      NaN  1966-01-09 00:00:00   \n",
       "last       NaN  2019-02-18 00:00:00   \n",
       "\n",
       "                                                Full_Text  \\\n",
       "count                                                4646   \n",
       "unique                                               4598   \n",
       "top     A Critical Need For Medical Marijuana To the E...   \n",
       "freq                                                    9   \n",
       "first                                                 NaN   \n",
       "last                                                  NaN   \n",
       "\n",
       "                                                Work_Text  \n",
       "count                                                4646  \n",
       "unique                                               4597  \n",
       "top     a critical need for medical marijuana to the e...  \n",
       "freq                                                    9  \n",
       "first                                                 NaN  \n",
       "last                                                  NaN  "
      ]
     },
     "execution_count": 13,
     "metadata": {},
     "output_type": "execute_result"
    }
   ],
   "source": [
    "df_NYT.reset_index(inplace=True, drop=True)\n",
    "df_NYT.describe()"
   ]
  },
  {
   "cell_type": "code",
   "execution_count": 14,
   "metadata": {},
   "outputs": [
    {
     "data": {
      "text/html": [
       "<div>\n",
       "<style scoped>\n",
       "    .dataframe tbody tr th:only-of-type {\n",
       "        vertical-align: middle;\n",
       "    }\n",
       "\n",
       "    .dataframe tbody tr th {\n",
       "        vertical-align: top;\n",
       "    }\n",
       "\n",
       "    .dataframe thead th {\n",
       "        text-align: right;\n",
       "    }\n",
       "</style>\n",
       "<table border=\"1\" class=\"dataframe\">\n",
       "  <thead>\n",
       "    <tr style=\"text-align: right;\">\n",
       "      <th></th>\n",
       "      <th>Section</th>\n",
       "      <th>Date</th>\n",
       "      <th>Full_Text</th>\n",
       "      <th>Work_Text</th>\n",
       "    </tr>\n",
       "  </thead>\n",
       "  <tbody>\n",
       "    <tr>\n",
       "      <th>0</th>\n",
       "      <td></td>\n",
       "      <td>1966-01-09</td>\n",
       "      <td>Oklahoma Students Jailed; Raiders Seize Mariju...</td>\n",
       "      <td>oklahoma students jailed; raiders seize mariju...</td>\n",
       "    </tr>\n",
       "    <tr>\n",
       "      <th>1</th>\n",
       "      <td></td>\n",
       "      <td>1966-01-18</td>\n",
       "      <td>Marijuana Inquiry Leads to Ousters From N.Y.U....</td>\n",
       "      <td>marijuana inquiry leads to ousters from n.y.u....</td>\n",
       "    </tr>\n",
       "    <tr>\n",
       "      <th>2</th>\n",
       "      <td></td>\n",
       "      <td>1966-01-23</td>\n",
       "      <td>30 Persons Seized In Marijuana Raid On Penthou...</td>\n",
       "      <td>30 persons seized in marijuana raid on penthou...</td>\n",
       "    </tr>\n",
       "    <tr>\n",
       "      <th>3</th>\n",
       "      <td></td>\n",
       "      <td>1966-02-09</td>\n",
       "      <td>9 STUDENTS JAILED IN NARCOTICS RAID; Marijuana...</td>\n",
       "      <td>9 students jailed in narcotics raid; marijuana...</td>\n",
       "    </tr>\n",
       "    <tr>\n",
       "      <th>4</th>\n",
       "      <td></td>\n",
       "      <td>1966-02-10</td>\n",
       "      <td>2 Darien Youths Are Sentenced To 4 Months in M...</td>\n",
       "      <td>2 darien youths are sentenced to 4 months in m...</td>\n",
       "    </tr>\n",
       "  </tbody>\n",
       "</table>\n",
       "</div>"
      ],
      "text/plain": [
       "  Section       Date                                          Full_Text  \\\n",
       "0         1966-01-09  Oklahoma Students Jailed; Raiders Seize Mariju...   \n",
       "1         1966-01-18  Marijuana Inquiry Leads to Ousters From N.Y.U....   \n",
       "2         1966-01-23  30 Persons Seized In Marijuana Raid On Penthou...   \n",
       "3         1966-02-09  9 STUDENTS JAILED IN NARCOTICS RAID; Marijuana...   \n",
       "4         1966-02-10  2 Darien Youths Are Sentenced To 4 Months in M...   \n",
       "\n",
       "                                           Work_Text  \n",
       "0  oklahoma students jailed; raiders seize mariju...  \n",
       "1  marijuana inquiry leads to ousters from n.y.u....  \n",
       "2  30 persons seized in marijuana raid on penthou...  \n",
       "3  9 students jailed in narcotics raid; marijuana...  \n",
       "4  2 darien youths are sentenced to 4 months in m...  "
      ]
     },
     "execution_count": 14,
     "metadata": {},
     "output_type": "execute_result"
    }
   ],
   "source": [
    "df_NYT.head()"
   ]
  },
  {
   "cell_type": "code",
   "execution_count": 15,
   "metadata": {},
   "outputs": [],
   "source": [
    "my_data = df_NYT['Work_Text'].tolist()"
   ]
  },
  {
   "cell_type": "code",
   "execution_count": 16,
   "metadata": {},
   "outputs": [
    {
     "data": {
      "text/plain": [
       "'oklahoma students jailed; raiders seize marijuana norman, okla., jan. 9 (ap) fourteen persons, including 11 university of oklahoma students, were jailed tonight after a said in which the police confiscated marijuana and material opposing the vietnam war effort.'"
      ]
     },
     "execution_count": 16,
     "metadata": {},
     "output_type": "execute_result"
    }
   ],
   "source": [
    "my_data[0]"
   ]
  },
  {
   "cell_type": "code",
   "execution_count": 17,
   "metadata": {},
   "outputs": [
    {
     "data": {
      "text/plain": [
       "'marijuana disqualification 8:49 p.'"
      ]
     },
     "execution_count": 17,
     "metadata": {},
     "output_type": "execute_result"
    }
   ],
   "source": [
    "#remove sentences that turn into empty strings after stopword removal: 261, 455, and 3642\n",
    "my_data.pop(261)\n",
    "my_data.pop(454)\n",
    "my_data.pop(3640)"
   ]
  },
  {
   "cell_type": "code",
   "execution_count": 18,
   "metadata": {},
   "outputs": [],
   "source": [
    "#my_data[2309]"
   ]
  },
  {
   "cell_type": "markdown",
   "metadata": {},
   "source": [
    "### Pre-process the text data"
   ]
  },
  {
   "cell_type": "code",
   "execution_count": 19,
   "metadata": {},
   "outputs": [],
   "source": [
    "#source: https://www.machinelearningplus.com/nlp/topic-modeling-gensim-python/"
   ]
  },
  {
   "cell_type": "code",
   "execution_count": 20,
   "metadata": {},
   "outputs": [
    {
     "name": "stdout",
     "output_type": "stream",
     "text": [
      "[['oklahoma', 'students', 'jailed', 'raiders', 'seize', 'marijuana', 'norman', 'okla', 'jan', 'ap', 'fourteen', 'persons', 'including', 'university', 'of', 'oklahoma', 'students', 'were', 'jailed', 'tonight', 'after', 'said', 'in', 'which', 'the', 'police', 'confiscated', 'marijuana', 'and', 'material', 'opposing', 'the', 'vietnam', 'war', 'effort']]\n"
     ]
    }
   ],
   "source": [
    "def sent_to_words(sentences):\n",
    "    for sentence in sentences:\n",
    "        yield(gensim.utils.simple_preprocess(str(sentence), deacc=True))  # deacc=True removes punctuations\n",
    "\n",
    "data_words = list(sent_to_words(my_data))\n",
    "\n",
    "print(data_words[:1])"
   ]
  },
  {
   "cell_type": "code",
   "execution_count": 21,
   "metadata": {},
   "outputs": [],
   "source": [
    "#version 1\n",
    "# Build the bigram model\n",
    "# bigram = gensim.models.Phrases(data_words, min_count=5)\n",
    "\n",
    "# bigram_mod = gensim.models.phrases.Phraser(bigram)"
   ]
  },
  {
   "cell_type": "code",
   "execution_count": 22,
   "metadata": {},
   "outputs": [],
   "source": [
    "# Define functions for stopwords, bigrams, trigrams and lemmatization\n",
    "def remove_stopwords(texts):\n",
    "    return [[word for word in gensim.utils.simple_preprocess(str(doc)) if word not in stop_words] for doc in texts]\n",
    "\n",
    "def make_bigrams(texts):\n",
    "    bigram = gensim.models.Phrases(texts, min_count=5)\n",
    "    bigram_mod = gensim.models.phrases.Phraser(bigram)\n",
    "    return [bigram_mod[doc] for doc in texts]\n",
    "\n",
    "def lemmatization(texts, allowed_postags=['NOUN', 'ADJ', 'VERB', 'ADV']):\n",
    "    \"\"\"https://spacy.io/api/annotation\"\"\"\n",
    "    texts_out = []\n",
    "    for sent in texts:\n",
    "        doc = nlp(\" \".join(sent)) \n",
    "        texts_out.append([token.lemma_ for token in doc if token.pos_ in allowed_postags])\n",
    "    return texts_out"
   ]
  },
  {
   "cell_type": "code",
   "execution_count": 23,
   "metadata": {},
   "outputs": [],
   "source": [
    "#version 1\n",
    "# Remove Stop Words\n",
    "# data_words_nostops = remove_stopwords(data_words)\n",
    "\n",
    "# # Form Bigrams\n",
    "# data_words_bigrams = make_bigrams(data_words_nostops)\n",
    "\n",
    "# # Initialize spacy 'en' model, keeping only tagger component (for efficiency)\n",
    "# # python3 -m spacy download en\n",
    "# nlp = spacy.load('en', disable=['parser', 'ner'])\n",
    "\n",
    "# # Do lemmatization keeping only noun, adj, vb, adv\n",
    "# data_lemmatized = lemmatization(data_words_bigrams, allowed_postags=['NOUN', 'ADJ', 'VERB', 'ADV'])"
   ]
  },
  {
   "cell_type": "code",
   "execution_count": 24,
   "metadata": {},
   "outputs": [],
   "source": [
    "# Remove stop words\n",
    "data_words_nostops = remove_stopwords(data_words)\n",
    "\n",
    "# Initialize spacy 'en' model, keeping only tagger component (for efficiency)\n",
    "# python3 -m spacy download en\n",
    "nlp = spacy.load('en', disable=['parser', 'ner'])\n",
    "\n",
    "# Do lemmatization keeping only noun, adj, vb, adv\n",
    "data_lemmatized = lemmatization(data_words_nostops, allowed_postags=['NOUN', 'ADJ', 'VERB', 'ADV'])\n",
    "\n",
    "# Remove stop words again (after lemmatization)\n",
    "data_lem_nostops = remove_stopwords(data_lemmatized)\n",
    "\n",
    "# Form Bigrams\n",
    "data_words_bigrams = make_bigrams(data_lem_nostops)"
   ]
  },
  {
   "cell_type": "code",
   "execution_count": 25,
   "metadata": {},
   "outputs": [
    {
     "name": "stdout",
     "output_type": "stream",
     "text": [
      "[['oklahoma', 'student', 'jail', 'raider', 'seize', 'norman', 'okla', 'jan', 'person', 'include', 'university', 'oklahoma', 'student', 'jail', 'tonight', 'say', 'police', 'confiscate', 'material', 'oppose', 'vietnam', 'war', 'effort']]\n"
     ]
    }
   ],
   "source": [
    "print(data_words_bigrams[:1])"
   ]
  },
  {
   "cell_type": "code",
   "execution_count": 26,
   "metadata": {},
   "outputs": [],
   "source": [
    "# Create Dictionary\n",
    "id2word = corpora.Dictionary(data_words_bigrams)\n",
    "\n",
    "# Create Corpus\n",
    "texts = data_words_bigrams\n",
    "\n",
    "# Term Document Frequency\n",
    "corpus = [id2word.doc2bow(text) for text in texts]"
   ]
  },
  {
   "cell_type": "code",
   "execution_count": 27,
   "metadata": {},
   "outputs": [
    {
     "name": "stdout",
     "output_type": "stream",
     "text": [
      "[[(0, 1), (1, 1), (2, 1), (3, 2), (4, 1), (5, 1), (6, 1), (7, 1), (8, 2), (9, 1), (10, 1), (11, 1), (12, 1), (13, 1), (14, 1), (15, 2), (16, 1), (17, 1), (18, 1), (19, 1)], [(11, 1), (15, 1), (17, 2), (20, 1), (21, 1), (22, 1), (23, 2), (24, 1), (25, 1), (26, 1), (27, 1), (28, 1), (29, 1), (30, 1), (31, 1), (32, 1), (33, 1)]]\n",
      "person\n",
      "11419\n"
     ]
    }
   ],
   "source": [
    "# View\n",
    "print(corpus[:2])\n",
    "print(id2word[10])\n",
    "print(len(id2word))"
   ]
  },
  {
   "cell_type": "code",
   "execution_count": 28,
   "metadata": {},
   "outputs": [
    {
     "data": {
      "text/plain": [
       "17"
      ]
     },
     "execution_count": 28,
     "metadata": {},
     "output_type": "execute_result"
    }
   ],
   "source": [
    "# Human readable format of corpus (term-frequency)\n",
    "[[(id2word[id], freq) for id, freq in cp] for cp in corpus[261:262]]\n",
    "len(corpus[261:262][0])"
   ]
  },
  {
   "cell_type": "code",
   "execution_count": 29,
   "metadata": {},
   "outputs": [],
   "source": [
    "#find sentences with no words\n",
    "\n",
    "for i, sentence in enumerate(corpus):\n",
    "    if len(sentence) == 0:\n",
    "        print(i)"
   ]
  },
  {
   "cell_type": "markdown",
   "metadata": {},
   "source": [
    "### LDA model"
   ]
  },
  {
   "cell_type": "code",
   "execution_count": 30,
   "metadata": {},
   "outputs": [],
   "source": [
    "# Build LDA model\n",
    "\n",
    "lda_model = gensim.models.ldamodel.LdaModel(corpus=corpus,\n",
    "                                            id2word=id2word,\n",
    "                                            num_topics=3, \n",
    "                                            update_every=1,\n",
    "                                            random_state=25,\n",
    "                                            chunksize=1000,\n",
    "                                            passes=30,\n",
    "                                            alpha='auto',\n",
    "                                            per_word_topics=True)"
   ]
  },
  {
   "cell_type": "code",
   "execution_count": 31,
   "metadata": {},
   "outputs": [
    {
     "name": "stdout",
     "output_type": "stream",
     "text": [
      "[(0,\n",
      "  '0.017*\"state\" + 0.009*\"medical\" + 0.008*\"law\" + 0.007*\"new\" + '\n",
      "  '0.007*\"california\" + 0.007*\"legalize\" + 0.007*\"legal\" + 0.006*\"use\" + '\n",
      "  '0.006*\"say\" + 0.005*\"colorado\"'),\n",
      " (1,\n",
      "  '0.022*\"arrest\" + 0.015*\"drug\" + 0.014*\"charge\" + 0.013*\"police\" + '\n",
      "  '0.007*\"man\" + 0.007*\"seize\" + 0.007*\"today\" + 0.006*\"yesterday\" + '\n",
      "  '0.006*\"find\" + 0.006*\"possession\"'),\n",
      " (2,\n",
      "  '0.021*\"drug\" + 0.019*\"use\" + 0.008*\"medical\" + 0.008*\"say\" + 0.006*\"smoke\" '\n",
      "  '+ 0.005*\"new\" + 0.005*\"report\" + 0.004*\"study\" + 0.004*\"editor\" + '\n",
      "  '0.004*\"may\"')]\n"
     ]
    }
   ],
   "source": [
    "# Print the keywords in the topics\n",
    "pprint(lda_model.print_topics())\n",
    "doc_lda = lda_model[corpus]"
   ]
  },
  {
   "cell_type": "code",
   "execution_count": 32,
   "metadata": {},
   "outputs": [
    {
     "name": "stdout",
     "output_type": "stream",
     "text": [
      "\n",
      "Perplexity:  -8.1645511402798\n",
      "\n",
      "Coherence Score:  0.2962718116551411\n"
     ]
    }
   ],
   "source": [
    "# Compute Perplexity\n",
    "print('\\nPerplexity: ', lda_model.log_perplexity(corpus))  # a measure of how good the model is. lower the better.\n",
    "\n",
    "# Compute Coherence Score\n",
    "coherence_model_lda = CoherenceModel(model=lda_model, texts=data_words_bigrams, dictionary=id2word, coherence='c_v')\n",
    "coherence_lda = coherence_model_lda.get_coherence()\n",
    "print('\\nCoherence Score: ', coherence_lda)"
   ]
  },
  {
   "cell_type": "code",
   "execution_count": 33,
   "metadata": {},
   "outputs": [
    {
     "name": "stderr",
     "output_type": "stream",
     "text": [
      "/anaconda3/lib/python3.6/site-packages/pyLDAvis/_prepare.py:257: FutureWarning: Sorting because non-concatenation axis is not aligned. A future version\n",
      "of pandas will change to not sort by default.\n",
      "\n",
      "To accept the future behavior, pass 'sort=False'.\n",
      "\n",
      "To retain the current behavior and silence the warning, pass 'sort=True'.\n",
      "\n",
      "  return pd.concat([default_term_info] + list(topic_dfs))\n"
     ]
    },
    {
     "data": {
      "text/html": [
       "\n",
       "<link rel=\"stylesheet\" type=\"text/css\" href=\"https://cdn.rawgit.com/bmabey/pyLDAvis/files/ldavis.v1.0.0.css\">\n",
       "\n",
       "\n",
       "<div id=\"ldavis_el216821124963646644432966218\"></div>\n",
       "<script type=\"text/javascript\">\n",
       "\n",
       "var ldavis_el216821124963646644432966218_data = {\"mdsDat\": {\"x\": [0.09680720817839687, -0.20092750088625488, 0.10412029270785803], \"y\": [0.12593545153137478, -0.0030191223199936587, -0.122916329211381], \"topics\": [1, 2, 3], \"cluster\": [1, 1, 1], \"Freq\": [37.39067459106445, 32.614715576171875, 29.994609832763672]}, \"tinfo\": {\"Category\": [\"Default\", \"Default\", \"Default\", \"Default\", \"Default\", \"Default\", \"Default\", \"Default\", \"Default\", \"Default\", \"Default\", \"Default\", \"Default\", \"Default\", \"Default\", \"Default\", \"Default\", \"Default\", \"Default\", \"Default\", \"Default\", \"Default\", \"Default\", \"Default\", \"Default\", \"Default\", \"Default\", \"Default\", \"Default\", \"Default\", \"Topic1\", \"Topic1\", \"Topic1\", \"Topic1\", \"Topic1\", \"Topic1\", \"Topic1\", \"Topic1\", \"Topic1\", \"Topic1\", \"Topic1\", \"Topic1\", \"Topic1\", \"Topic1\", \"Topic1\", \"Topic1\", \"Topic1\", \"Topic1\", \"Topic1\", \"Topic1\", \"Topic1\", \"Topic1\", \"Topic1\", \"Topic1\", \"Topic1\", \"Topic1\", \"Topic1\", \"Topic1\", \"Topic1\", \"Topic1\", \"Topic1\", \"Topic1\", \"Topic1\", \"Topic1\", \"Topic1\", \"Topic1\", \"Topic1\", \"Topic1\", \"Topic1\", \"Topic1\", \"Topic1\", \"Topic1\", \"Topic1\", \"Topic1\", \"Topic1\", \"Topic1\", \"Topic1\", \"Topic1\", \"Topic1\", \"Topic1\", \"Topic1\", \"Topic1\", \"Topic1\", \"Topic1\", \"Topic1\", \"Topic1\", \"Topic1\", \"Topic1\", \"Topic1\", \"Topic1\", \"Topic1\", \"Topic2\", \"Topic2\", \"Topic2\", \"Topic2\", \"Topic2\", \"Topic2\", \"Topic2\", \"Topic2\", \"Topic2\", \"Topic2\", \"Topic2\", \"Topic2\", \"Topic2\", \"Topic2\", \"Topic2\", \"Topic2\", \"Topic2\", \"Topic2\", \"Topic2\", \"Topic2\", \"Topic2\", \"Topic2\", \"Topic2\", \"Topic2\", \"Topic2\", \"Topic2\", \"Topic2\", \"Topic2\", \"Topic2\", \"Topic2\", \"Topic2\", \"Topic2\", \"Topic2\", \"Topic2\", \"Topic2\", \"Topic2\", \"Topic2\", \"Topic2\", \"Topic2\", \"Topic2\", \"Topic2\", \"Topic2\", \"Topic2\", \"Topic2\", \"Topic2\", \"Topic2\", \"Topic2\", \"Topic2\", \"Topic2\", \"Topic2\", \"Topic2\", \"Topic2\", \"Topic2\", \"Topic2\", \"Topic2\", \"Topic3\", \"Topic3\", \"Topic3\", \"Topic3\", \"Topic3\", \"Topic3\", \"Topic3\", \"Topic3\", \"Topic3\", \"Topic3\", \"Topic3\", \"Topic3\", \"Topic3\", \"Topic3\", \"Topic3\", \"Topic3\", \"Topic3\", \"Topic3\", \"Topic3\", \"Topic3\", \"Topic3\", \"Topic3\", \"Topic3\", \"Topic3\", \"Topic3\", \"Topic3\", \"Topic3\", \"Topic3\", \"Topic3\", \"Topic3\", \"Topic3\", \"Topic3\", \"Topic3\", \"Topic3\", \"Topic3\", \"Topic3\", \"Topic3\", \"Topic3\", \"Topic3\", \"Topic3\", \"Topic3\", \"Topic3\", \"Topic3\", \"Topic3\", \"Topic3\", \"Topic3\", \"Topic3\", \"Topic3\", \"Topic3\", \"Topic3\", \"Topic3\", \"Topic3\", \"Topic3\", \"Topic3\", \"Topic3\", \"Topic3\", \"Topic3\", \"Topic3\", \"Topic3\"], \"Freq\": [677.0, 427.0, 859.0, 408.0, 608.0, 214.0, 537.0, 224.0, 253.0, 355.0, 143.0, 389.0, 1267.0, 286.0, 303.0, 151.0, 228.0, 148.0, 132.0, 102.0, 108.0, 106.0, 144.0, 104.0, 95.0, 117.0, 207.0, 95.0, 83.0, 83.0, 150.3987274169922, 147.44590759277344, 116.27204895019531, 83.10467529296875, 81.06267547607422, 75.61615753173828, 89.22620391845703, 83.29073333740234, 72.28450775146484, 58.8278923034668, 49.83586502075195, 50.66572570800781, 46.25655746459961, 47.565799713134766, 44.148109436035156, 55.17131423950195, 44.20558547973633, 44.62754821777344, 41.84608459472656, 42.25408935546875, 44.94615173339844, 40.52748107910156, 51.074501037597656, 49.949710845947266, 41.70149612426758, 35.59345626831055, 71.21122741699219, 35.358367919921875, 35.59020233154297, 30.593257904052734, 39.09169006347656, 678.8087158203125, 216.52391052246094, 94.70096588134766, 718.2173461914062, 69.21013641357422, 112.3809585571289, 164.5081329345703, 287.48345947265625, 274.8562316894531, 130.85406494140625, 182.5614013671875, 63.94800567626953, 67.61740112304688, 103.76271057128906, 60.423980712890625, 91.46317291259766, 69.23633575439453, 69.5287857055664, 120.30610656738281, 129.58810424804688, 107.93201446533203, 76.85476684570312, 105.66854858398438, 81.62321472167969, 104.13128662109375, 112.17848205566406, 121.79657745361328, 96.72251892089844, 90.01261901855469, 88.20909118652344, 427.01544189453125, 214.3533172607422, 105.88750457763672, 104.05105590820312, 107.43234252929688, 94.78270721435547, 88.03858947753906, 75.96173858642578, 78.9606704711914, 76.65455627441406, 671.8272094726562, 73.49449157714844, 76.9531478881836, 75.73558044433594, 61.222564697265625, 56.92938995361328, 55.201881408691406, 51.6696891784668, 51.903011322021484, 51.35877227783203, 53.784637451171875, 47.920654296875, 45.3189697265625, 44.670772552490234, 43.93784713745117, 43.67967987060547, 41.62018966674805, 40.32229995727539, 42.09642028808594, 37.87430953979492, 39.62529373168945, 128.5130615234375, 382.0650329589844, 224.21533203125, 130.74952697753906, 193.4434356689453, 99.48056030273438, 131.5128936767578, 105.76261138916016, 177.80850219726562, 113.40094757080078, 63.294960021972656, 145.98878479003906, 191.18992614746094, 442.7325439453125, 112.18313598632812, 211.8866424560547, 77.0361557006836, 92.0954360961914, 100.48992919921875, 115.68301391601562, 88.58082580566406, 129.41714477539062, 101.98355102539062, 96.6087875366211, 142.96302795410156, 101.9949951171875, 94.54708099365234, 83.03556060791016, 82.7941665649414, 69.89956665039062, 66.08120727539062, 66.49604034423828, 64.55345153808594, 53.734619140625, 57.36231994628906, 54.56044387817383, 50.17987823486328, 48.59046936035156, 40.411590576171875, 38.32637023925781, 39.38382339477539, 49.08994674682617, 40.63534164428711, 48.51599884033203, 36.062164306640625, 34.02268600463867, 31.121042251586914, 32.41977310180664, 26.24370765686035, 26.760419845581055, 27.745159149169922, 25.160432815551758, 26.409780502319336, 25.744779586791992, 27.391326904296875, 199.04148864746094, 43.838565826416016, 467.5122985839844, 29.875076293945312, 74.17881774902344, 189.40126037597656, 225.23233032226562, 70.76260375976562, 183.0367889404297, 93.46321105957031, 135.0965118408203, 206.1148223876953, 249.73931884765625, 86.94207763671875, 110.1033935546875, 138.16664123535156, 120.46473693847656, 115.22198486328125, 155.88038635253906, 180.220947265625, 89.08674621582031, 124.53651428222656, 72.39862060546875, 106.3179931640625, 77.24657440185547, 75.33373260498047, 72.9088134765625, 71.92932891845703], \"Term\": [\"arrest\", \"charge\", \"use\", \"police\", \"state\", \"seize\", \"medical\", \"california\", \"man\", \"law\", \"colorado\", \"new\", \"drug\", \"legalize\", \"legal\", \"study\", \"yesterday\", \"editor\", \"sentence\", \"bill\", \"officer\", \"pound\", \"raid\", \"police_say\", \"business\", \"test\", \"legalization\", \"ton\", \"industry\", \"company\", \"study\", \"editor\", \"test\", \"research\", \"alcohol\", \"doctor\", \"effect\", \"patient\", \"article\", \"treatment\", \"treat\", \"letter\", \"researcher\", \"medicine\", \"cancer\", \"experiment\", \"pain\", \"synthetic\", \"drug_abuse\", \"addiction\", \"abuse\", \"brain\", \"risk\", \"much\", \"substance\", \"survey\", \"administration\", \"benefit\", \"recommend\", \"editorial\", \"job\", \"use\", \"smoke\", \"child\", \"drug\", \"health\", \"government\", \"report\", \"medical\", \"say\", \"may\", \"new\", \"user\", \"national\", \"time\", \"increase\", \"high\", \"rise\", \"change\", \"legal\", \"law\", \"make\", \"policy\", \"federal\", \"american\", \"lead\", \"find\", \"today\", \"legalize\", \"people\", \"year\", \"charge\", \"seize\", \"pound\", \"police_say\", \"officer\", \"ton\", \"son\", \"charge_possession\", \"police_officer\", \"smuggling\", \"arrest\", \"accuse\", \"trial\", \"convict\", \"smuggle\", \"plead_guilty\", \"coast_guard\", \"ship\", \"suspend\", \"miami\", \"worth\", \"indict\", \"airport\", \"confiscate\", \"bronx\", \"smuggler\", \"jury\", \"authority_say\", \"involve\", \"policeman\", \"guard\", \"sentence\", \"police\", \"man\", \"raid\", \"yesterday\", \"kill\", \"year_old\", \"brooklyn\", \"possession\", \"hold\", \"suspect\", \"case\", \"find\", \"drug\", \"cocaine\", \"today\", \"county\", \"court\", \"united_state\", \"lead\", \"mexico\", \"say\", \"city\", \"new_york\", \"colorado\", \"bill\", \"business\", \"industry\", \"company\", \"voter\", \"tax\", \"vote\", \"governor\", \"measure\", \"market\", \"grower\", \"farm\", \"gov\", \"dispensary\", \"cuomo\", \"legalize_recreational\", \"close\", \"crop\", \"create\", \"albany\", \"owner\", \"shop\", \"farmer\", \"gov_andrew\", \"lawmaker\", \"draw\", \"ballot\", \"oakland\", \"small_business\", \"license\", \"california\", \"recreational\", \"state\", \"oregon\", \"move\", \"legalize\", \"law\", \"start\", \"legal\", \"sale\", \"legalization\", \"new\", \"medical\", \"first\", \"would\", \"new_york\", \"city\", \"make\", \"say\", \"use\", \"grow\", \"today\", \"go\", \"drug\", \"federal\", \"year\", \"may\", \"get\"], \"Total\": [677.0, 427.0, 859.0, 408.0, 608.0, 214.0, 537.0, 224.0, 253.0, 355.0, 143.0, 389.0, 1267.0, 286.0, 303.0, 151.0, 228.0, 148.0, 132.0, 102.0, 108.0, 106.0, 144.0, 104.0, 95.0, 117.0, 207.0, 95.0, 83.0, 83.0, 151.0488739013672, 148.1167755126953, 117.0658187866211, 83.7370834350586, 81.7069091796875, 76.25350952148438, 90.01100158691406, 84.06999969482422, 73.00260162353516, 59.48968505859375, 50.48886489868164, 51.333892822265625, 46.883026123046875, 48.21088409423828, 44.78703308105469, 55.97626876831055, 44.85594940185547, 45.305419921875, 42.486122131347656, 42.90544128417969, 45.644039154052734, 41.15960693359375, 51.87445068359375, 50.744110107421875, 42.39860916137695, 36.2344856262207, 72.52926635742188, 36.02893829345703, 36.28038787841797, 31.226274490356445, 39.92245864868164, 859.5049438476562, 268.4875183105469, 111.1736068725586, 1267.2679443359375, 79.36811065673828, 145.38760375976562, 246.30691528320312, 537.5853271484375, 560.1537475585938, 222.3702850341797, 389.1176452636719, 78.34029388427734, 86.98302459716797, 176.86216735839844, 72.45559692382812, 162.92840576171875, 95.21772766113281, 97.16358184814453, 303.7122497558594, 355.21923828125, 247.30520629882812, 120.79357147216797, 257.4416809082031, 139.93162536621094, 263.0389404296875, 338.99249267578125, 458.2197265625, 286.483642578125, 222.2373809814453, 244.6058349609375, 427.6152038574219, 214.95111083984375, 106.47865295410156, 104.65636444091797, 108.06222534179688, 95.36763763427734, 88.68116760253906, 76.5541763305664, 79.5861587524414, 77.27120208740234, 677.3639526367188, 74.12065124511719, 77.61005401611328, 76.38339233398438, 61.818965911865234, 57.519142150878906, 55.78498458862305, 52.26735305786133, 52.51027297973633, 51.97541046142578, 54.43558883666992, 48.50777053833008, 45.90321350097656, 45.27289962768555, 44.54137420654297, 44.28994369506836, 42.232582092285156, 40.9179801940918, 42.728633880615234, 38.47264099121094, 40.26572799682617, 132.90182495117188, 408.4299011230469, 253.64077758789062, 144.04827880859375, 228.30848693847656, 111.14846801757812, 154.67361450195312, 124.73790740966797, 240.71823120117188, 139.49403381347656, 68.49665832519531, 215.18841552734375, 338.99249267578125, 1267.2679443359375, 163.54457092285156, 458.2197265625, 95.16674041748047, 136.79470825195312, 168.86380004882812, 263.0389404296875, 128.43487548828125, 560.1537475585938, 261.6052551269531, 307.9569091796875, 143.69354248046875, 102.7216567993164, 95.2791748046875, 83.73971557617188, 83.53652954101562, 70.59220886230469, 66.79010772705078, 67.21134948730469, 65.31776428222656, 54.427032470703125, 58.102333068847656, 55.272464752197266, 50.9267578125, 49.36705017089844, 41.10887908935547, 38.99972915649414, 40.09464645385742, 49.98878479003906, 41.39274978637695, 49.431461334228516, 36.74339294433594, 34.738922119140625, 31.82256317138672, 33.159603118896484, 26.915794372558594, 27.461091995239258, 28.478553771972656, 25.834487915039062, 27.119659423828125, 26.44336700439453, 28.14425277709961, 224.11929321289062, 46.361183166503906, 608.9974975585938, 31.03424644470215, 85.5716552734375, 286.483642578125, 355.21923828125, 88.49199676513672, 303.7122497558594, 128.57684326171875, 207.61683654785156, 389.1176452636719, 537.5853271484375, 123.0975341796875, 174.10159301757812, 307.9569091796875, 261.6052551269531, 247.30520629882812, 560.1537475585938, 859.5049438476562, 187.50253295898438, 458.2197265625, 118.77488708496094, 1267.2679443359375, 257.4416809082031, 244.6058349609375, 222.3702850341797, 149.767578125], \"loglift\": [30.0, 29.0, 28.0, 27.0, 26.0, 25.0, 24.0, 23.0, 22.0, 21.0, 20.0, 19.0, 18.0, 17.0, 16.0, 15.0, 14.0, 13.0, 12.0, 11.0, 10.0, 9.0, 8.0, 7.0, 6.0, 5.0, 4.0, 3.0, 2.0, 1.0, 0.9793999791145325, 0.979200005531311, 0.9768999814987183, 0.9761999845504761, 0.9757999777793884, 0.9753999710083008, 0.9750000238418579, 0.974399983882904, 0.9739000201225281, 0.972599983215332, 0.9707000255584717, 0.9706000089645386, 0.970300018787384, 0.970300018787384, 0.9693999886512756, 0.9692999720573425, 0.9690999984741211, 0.9686999917030334, 0.9685999751091003, 0.968500018119812, 0.9682999849319458, 0.9682999849319458, 0.9682000279426575, 0.9679999947547913, 0.967199981212616, 0.9659000039100647, 0.965399980545044, 0.9649999737739563, 0.9645000100135803, 0.9632999897003174, 0.9627000093460083, 0.7476999759674072, 0.7685999870300293, 0.8234000205993652, 0.41589999198913574, 0.8468000292778015, 0.7261999845504761, 0.5800999999046326, 0.3578000068664551, 0.2718000113964081, 0.45350000262260437, 0.22699999809265137, 0.7807999849319458, 0.7318999767303467, 0.4505000114440918, 0.8022000193595886, 0.40639999508857727, 0.6650999784469604, 0.6491000056266785, 0.05770000070333481, -0.02459999918937683, 0.15459999442100525, 0.5315999984741211, 0.093299999833107, 0.4447000026702881, 0.057100001722574234, -0.12210000306367874, -0.34119999408721924, -0.10209999978542328, 0.07999999821186066, -0.03620000183582306, 1.11899995803833, 1.1175999641418457, 1.114799976348877, 1.1145999431610107, 1.1145999431610107, 1.114300012588501, 1.1131000518798828, 1.1125999689102173, 1.1124999523162842, 1.1124000549316406, 1.1122000217437744, 1.111899971961975, 1.111899971961975, 1.111899971961975, 1.110700011253357, 1.1101000308990479, 1.1098999977111816, 1.1088999509811401, 1.1088000535964966, 1.1085000038146973, 1.1083999872207642, 1.108199954032898, 1.1075999736785889, 1.1069999933242798, 1.1067999601364136, 1.1065000295639038, 1.1058000326156616, 1.1057000160217285, 1.1054999828338623, 1.104699969291687, 1.1044000387191772, 1.0867999792099, 1.0536999702453613, 0.9970999956130981, 1.0234999656677246, 0.9546999931335449, 1.0095000267028809, 0.9581999778747559, 0.9553999900817871, 0.8174999952316284, 0.9132999777793884, 1.0413999557495117, 0.7324000000953674, 0.5476999878883362, 0.06880000233650208, 0.7434999942779541, 0.3490999937057495, 0.9090999960899353, 0.7247999906539917, 0.6014000177383423, 0.29899999499320984, 0.7488999962806702, -0.3447999954223633, 0.17839999496936798, -0.03889999911189079, 1.1991000175476074, 1.197100043296814, 1.1964000463485718, 1.1957000494003296, 1.195199966430664, 1.1943000555038452, 1.19350004196167, 1.19350004196167, 1.1923999786376953, 1.1913000345230103, 1.1913000345230103, 1.1912000179290771, 1.1893999576568604, 1.1883000135421753, 1.187000036239624, 1.1866999864578247, 1.1863000392913818, 1.1859999895095825, 1.1857000589370728, 1.1855000257492065, 1.1854000091552734, 1.1833000183105469, 1.1819000244140625, 1.1815999746322632, 1.1789000034332275, 1.1783000230789185, 1.1780999898910522, 1.1777000427246094, 1.1776000261306763, 1.17739999294281, 1.1770000457763672, 1.0855000019073486, 1.1482000350952148, 0.9398000240325928, 1.166100025177002, 1.0613000392913818, 0.7903000116348267, 0.7484999895095825, 0.9805999994277954, 0.6977999806404114, 0.885200023651123, 0.774399995803833, 0.5687000155448914, 0.4375, 0.8564000129699707, 0.7458999752998352, 0.4027000069618225, 0.4287000000476837, 0.44040000438690186, -0.07500000298023224, -0.3580000102519989, 0.46000000834465027, -0.09860000014305115, 0.7091000080108643, -1.2740000486373901, 0.00039999998989515007, 0.026399999856948853, 0.08900000154972076, 0.4708000123500824], \"logprob\": [30.0, 29.0, 28.0, 27.0, 26.0, 25.0, 24.0, 23.0, 22.0, 21.0, 20.0, 19.0, 18.0, 17.0, 16.0, 15.0, 14.0, 13.0, 12.0, 11.0, 10.0, 9.0, 8.0, 7.0, 6.0, 5.0, 4.0, 3.0, 2.0, 1.0, -5.445199966430664, -5.465000152587891, -5.702499866485596, -6.038400173187256, -6.063300132751465, -6.132800102233887, -5.967299938201904, -6.036099910736084, -6.1778998374938965, -6.383900165557861, -6.549699783325195, -6.533199787139893, -6.624300003051758, -6.596399784088135, -6.670899868011475, -6.447999954223633, -6.669600009918213, -6.660099983215332, -6.7245001792907715, -6.714799880981445, -6.6529998779296875, -6.756499767303467, -6.525199890136719, -6.547500133514404, -6.72790002822876, -6.886300086975098, -6.192800045013428, -6.892899990081787, -6.88640022277832, -7.037700176239014, -6.792600154876709, -3.9381000995635986, -5.0808000564575195, -5.907800197601318, -3.881700038909912, -6.22130012512207, -5.736599922180176, -5.355500221252441, -4.797299861907959, -4.842199802398682, -5.584400177001953, -5.251399993896484, -6.3003997802734375, -6.24459981918335, -5.816400051116943, -6.357100009918213, -5.942500114440918, -6.2210001945495605, -6.216700077056885, -5.668399810791016, -5.594099998474121, -5.7769999504089355, -6.116600036621094, -5.7982001304626465, -6.056399822235107, -5.81279993057251, -5.738399982452393, -5.656099796295166, -5.886600017547607, -5.958499908447266, -5.978799819946289, -4.264999866485596, -4.95419979095459, -5.65939998626709, -5.6768999099731445, -5.644999980926514, -5.770199775695801, -5.843999862670898, -5.991600036621094, -5.952899932861328, -5.982500076293945, -3.811800003051758, -6.024600028991699, -5.978600025177002, -5.99459981918335, -6.207300186157227, -6.28000020980835, -6.310800075531006, -6.3769001960754395, -6.372399806976318, -6.382999897003174, -6.3368000984191895, -6.452300071716309, -6.5081000328063965, -6.522500038146973, -6.539000034332275, -6.544899940490723, -6.593200206756592, -6.624899864196777, -6.581900119781494, -6.6875, -6.642399787902832, -5.465799808502197, -4.376200199127197, -4.909200191497803, -5.448500156402588, -5.05679988861084, -5.72189998626709, -5.442699909210205, -5.660600185394287, -5.14109992980957, -5.59089994430542, -6.173999786376953, -5.3383002281188965, -5.068600177764893, -4.228899955749512, -5.6016998291015625, -4.965799808502197, -5.977499961853027, -5.798999786376953, -5.7118000984191895, -5.571000099182129, -5.837900161743164, -5.458799839019775, -5.697000026702881, -5.751100063323975, -5.2754998207092285, -5.613100051879883, -5.689000129699707, -5.81879997253418, -5.821700096130371, -5.991000175476074, -6.0472002029418945, -6.040900230407715, -6.0706000328063965, -6.254000186920166, -6.188700199127197, -6.238800048828125, -6.322500228881836, -6.354599952697754, -6.539000034332275, -6.591899871826172, -6.564700126647949, -6.344399929046631, -6.533400058746338, -6.356200218200684, -6.6528000831604, -6.710999965667725, -6.80019998550415, -6.759300231933594, -6.970600128173828, -6.951099872589111, -6.914999961853027, -7.012800216674805, -6.964300155639648, -6.989799976348877, -6.927800178527832, -4.9446001052856445, -6.457600116729736, -4.09060001373291, -6.841000080108643, -5.931600093841553, -4.994200229644775, -4.820899963378906, -5.978700160980225, -5.02839994430542, -5.700500011444092, -5.332099914550781, -4.909599781036377, -4.717700004577637, -5.772799968719482, -5.5366997718811035, -5.309599876403809, -5.446700096130371, -5.491199970245361, -5.189000129699707, -5.043900012969971, -5.748499870300293, -5.41349983215332, -5.955900192260742, -5.571599960327148, -5.89109992980957, -5.916100025177002, -5.94890022277832, -5.962399959564209]}, \"token.table\": {\"Topic\": [1, 2, 1, 1, 3, 2, 3, 1, 1, 2, 3, 2, 3, 1, 2, 3, 1, 3, 1, 2, 1, 2, 3, 3, 1, 3, 1, 1, 2, 3, 1, 3, 2, 2, 1, 2, 3, 1, 2, 3, 2, 3, 2, 1, 2, 3, 3, 2, 2, 2, 3, 1, 2, 3, 3, 3, 3, 3, 1, 3, 1, 2, 3, 1, 1, 1, 1, 1, 3, 3, 1, 2, 3, 1, 2, 3, 1, 3, 1, 2, 3, 1, 2, 3, 3, 3, 1, 3, 3, 1, 2, 3, 3, 2, 1, 3, 1, 2, 3, 1, 2, 1, 3, 2, 3, 2, 1, 2, 1, 2, 3, 1, 3, 3, 1, 2, 3, 1, 3, 1, 3, 1, 3, 3, 1, 3, 1, 2, 3, 1, 2, 3, 3, 1, 2, 3, 3, 1, 3, 1, 2, 3, 2, 1, 3, 1, 1, 3, 1, 3, 1, 2, 3, 3, 2, 2, 3, 3, 1, 1, 1, 2, 3, 2, 2, 3, 2, 2, 2, 1, 3, 1, 2, 3, 2, 2, 3, 1, 1, 3, 1, 2, 3, 1, 1, 1, 2, 3, 1, 2, 3, 1, 2, 3, 2, 2, 3, 2, 3, 3, 1, 2, 3, 2, 2, 2, 2, 1, 2, 3, 1, 2, 3, 1, 1, 1, 1, 2, 2, 1, 3, 1, 1, 2, 3, 1, 2, 3, 2, 1, 1, 2, 1, 2, 3, 1, 3, 1, 3, 3, 3, 2, 1, 3, 1, 2, 3, 1, 2, 3, 1, 2, 3], \"Freq\": [0.9858899712562561, 0.9848806858062744, 0.9788967967033386, 0.9789151549339294, 0.013787537813186646, 0.9803235530853271, 0.9797679781913757, 0.9913482069969177, 0.5860005021095276, 0.25012215971946716, 0.17151233553886414, 0.9920811653137207, 0.007381556089967489, 0.9862661957740784, 0.977565348148346, 0.9676986932754517, 0.9714413285255432, 0.9929746389389038, 0.9961222410202026, 0.9878455996513367, 0.08016809076070786, 0.8497817516326904, 0.07215128093957901, 0.9970699548721313, 0.11154773831367493, 0.8879199624061584, 0.9824272394180298, 0.23700161278247833, 0.6784752011299133, 0.08364762365818024, 0.7204345464706421, 0.2778818905353546, 0.9985613226890564, 0.9927610158920288, 0.8545193672180176, 0.08994940668344498, 0.053969644010066986, 0.1490795761346817, 0.38990041613578796, 0.4587063789367676, 0.02000448666512966, 0.980219841003418, 0.9859284162521362, 0.31184160709381104, 0.6848285794258118, 0.995173454284668, 0.9935773015022278, 0.99397212266922, 0.9949806928634644, 0.8091062307357788, 0.18914170563220978, 0.04386134445667267, 0.6725406646728516, 0.27778851985931396, 0.9912714958190918, 0.9905116558074951, 0.974365770816803, 0.9730257987976074, 0.996675431728363, 0.9831960201263428, 0.5665731430053711, 0.3495709002017975, 0.08364450186491013, 0.9885581135749817, 0.9924601912498474, 0.9927537441253662, 0.9887680411338806, 0.9825592637062073, 0.9818021655082703, 0.9650296568870544, 0.41174373030662537, 0.291328102350235, 0.29909685254096985, 0.3303908109664917, 0.5634343028068542, 0.1061970442533493, 0.29245102405548096, 0.7067566514015198, 0.3138195872306824, 0.2069873958826065, 0.4807448983192444, 0.3199329376220703, 0.06735430657863617, 0.6061887741088867, 0.992564857006073, 0.9659755825996399, 0.7703545093536377, 0.22697946429252625, 0.9951351284980774, 0.36266177892684937, 0.16533109545707703, 0.4746602475643158, 0.9950705170631409, 0.9934006333351135, 0.8693668246269226, 0.1259951889514923, 0.5585275292396545, 0.006137665361166, 0.42963656783103943, 0.18638789653778076, 0.8100705146789551, 0.8280933499336243, 0.1656186729669571, 0.9895321726799011, 0.9911664724349976, 0.9829474091529846, 0.9768937230110168, 0.9944928288459778, 0.008996974676847458, 0.8907005190849304, 0.09896672517061234, 0.365971177816391, 0.6334116458892822, 0.9832092523574829, 0.3953787088394165, 0.4409993290901184, 0.16347388923168182, 0.3951108455657959, 0.6025440096855164, 0.34679269790649414, 0.6502363085746765, 0.33858826756477356, 0.6597235202789307, 0.972698450088501, 0.9934956431388855, 0.9593433141708374, 0.43670734763145447, 0.09704607725143433, 0.46501246094703674, 0.11433492600917816, 0.8831387758255005, 0.003942583687603474, 0.9810277223587036, 0.5891075134277344, 0.08544307202100754, 0.3282812833786011, 0.992154061794281, 0.5338687300682068, 0.46504244208335876, 0.9956257939338684, 0.6929581761360168, 0.30365583300590515, 0.9812332391738892, 0.12854723632335663, 0.8647723197937012, 0.9853360056877136, 0.7817617058753967, 0.2184334248304367, 0.4702947735786438, 0.5294028520584106, 0.23704615235328674, 0.3149791359901428, 0.44811463356018066, 0.9587141275405884, 0.9901702404022217, 0.03222246840596199, 0.9666740298271179, 0.978729248046875, 0.9809178113937378, 0.9872725009918213, 0.4049723744392395, 0.3824739158153534, 0.2159852683544159, 0.9909744262695312, 0.9352890253067017, 0.06365841627120972, 0.9926348924636841, 0.9937283992767334, 0.9877148866653442, 0.6374511122703552, 0.3642577826976776, 0.07893045991659164, 0.7394537329673767, 0.18278631567955017, 0.9955046772956848, 0.9094173312187195, 0.09024751931428909, 0.9922716617584229, 0.043139535933732986, 0.9490697979927063, 0.6698959469795227, 0.255778431892395, 0.07713953405618668, 0.9911976456642151, 0.98116534948349, 0.7246549725532532, 0.010502246208488941, 0.26255613565444946, 0.9831429123878479, 0.2722107470035553, 0.7233029007911682, 0.49093663692474365, 0.23029391467571259, 0.2784949541091919, 0.9955752491950989, 0.9706413149833679, 0.03009740449488163, 0.9948849081993103, 0.9741515517234802, 0.9832333326339722, 0.8082312345504761, 0.09683876484632492, 0.09683876484632492, 0.9867522120475769, 0.9934535026550293, 0.9964902400970459, 0.9923189282417297, 0.19210776686668396, 0.011300456710159779, 0.8023324608802795, 0.11986912786960602, 0.11330095678567886, 0.7684760689735413, 0.993056058883667, 0.9905985593795776, 0.9935286641120911, 0.07299625873565674, 0.9197528958320618, 0.990282416343689, 0.9932586550712585, 0.9881702661514282, 0.9908955693244934, 0.5880285501480103, 0.1752777397632599, 0.23747305572032928, 0.26624780893325806, 0.46266013383865356, 0.2727949023246765, 0.9961450695991516, 0.9903173446655273, 0.9917685985565186, 0.9921395182609558, 0.34347206354141235, 0.5921932458877563, 0.059219323098659515, 0.7899896502494812, 0.20942288637161255, 0.8169487118721008, 0.1787075251340866, 0.9819769859313965, 0.9916108250617981, 0.9919980764389038, 0.3676014542579651, 0.6318150162696838, 0.3597624599933624, 0.3311449885368347, 0.3066157400608063, 0.08404795080423355, 0.8534099459648132, 0.06465227156877518, 0.11826104670763016, 0.8453474640846252, 0.03504030779004097], \"Term\": [\"abuse\", \"accuse\", \"addiction\", \"administration\", \"administration\", \"airport\", \"albany\", \"alcohol\", \"american\", \"american\", \"american\", \"arrest\", \"arrest\", \"article\", \"authority_say\", \"ballot\", \"benefit\", \"bill\", \"brain\", \"bronx\", \"brooklyn\", \"brooklyn\", \"brooklyn\", \"business\", \"california\", \"california\", \"cancer\", \"case\", \"case\", \"case\", \"change\", \"change\", \"charge\", \"charge_possession\", \"child\", \"child\", \"child\", \"city\", \"city\", \"city\", \"close\", \"close\", \"coast_guard\", \"cocaine\", \"cocaine\", \"colorado\", \"company\", \"confiscate\", \"convict\", \"county\", \"county\", \"court\", \"court\", \"court\", \"create\", \"crop\", \"cuomo\", \"dispensary\", \"doctor\", \"draw\", \"drug\", \"drug\", \"drug\", \"drug_abuse\", \"editor\", \"editorial\", \"effect\", \"experiment\", \"farm\", \"farmer\", \"federal\", \"federal\", \"federal\", \"find\", \"find\", \"find\", \"first\", \"first\", \"get\", \"get\", \"get\", \"go\", \"go\", \"go\", \"gov\", \"gov_andrew\", \"government\", \"government\", \"governor\", \"grow\", \"grow\", \"grow\", \"grower\", \"guard\", \"health\", \"health\", \"high\", \"high\", \"high\", \"hold\", \"hold\", \"increase\", \"increase\", \"indict\", \"industry\", \"involve\", \"job\", \"jury\", \"kill\", \"kill\", \"kill\", \"law\", \"law\", \"lawmaker\", \"lead\", \"lead\", \"lead\", \"legal\", \"legal\", \"legalization\", \"legalization\", \"legalize\", \"legalize\", \"legalize_recreational\", \"letter\", \"license\", \"make\", \"make\", \"make\", \"man\", \"man\", \"man\", \"market\", \"may\", \"may\", \"may\", \"measure\", \"medical\", \"medical\", \"medicine\", \"mexico\", \"mexico\", \"miami\", \"move\", \"move\", \"much\", \"national\", \"national\", \"new\", \"new\", \"new_york\", \"new_york\", \"new_york\", \"oakland\", \"officer\", \"oregon\", \"oregon\", \"owner\", \"pain\", \"patient\", \"people\", \"people\", \"people\", \"plead_guilty\", \"police\", \"police\", \"police_officer\", \"police_say\", \"policeman\", \"policy\", \"policy\", \"possession\", \"possession\", \"possession\", \"pound\", \"raid\", \"raid\", \"recommend\", \"recreational\", \"recreational\", \"report\", \"report\", \"report\", \"research\", \"researcher\", \"rise\", \"rise\", \"rise\", \"risk\", \"sale\", \"sale\", \"say\", \"say\", \"say\", \"seize\", \"sentence\", \"sentence\", \"ship\", \"shop\", \"small_business\", \"smoke\", \"smoke\", \"smoke\", \"smuggle\", \"smuggler\", \"smuggling\", \"son\", \"start\", \"start\", \"start\", \"state\", \"state\", \"state\", \"study\", \"substance\", \"survey\", \"suspect\", \"suspect\", \"suspend\", \"synthetic\", \"tax\", \"test\", \"time\", \"time\", \"time\", \"today\", \"today\", \"today\", \"ton\", \"treat\", \"treatment\", \"trial\", \"united_state\", \"united_state\", \"united_state\", \"use\", \"use\", \"user\", \"user\", \"vote\", \"voter\", \"worth\", \"would\", \"would\", \"year\", \"year\", \"year\", \"year_old\", \"year_old\", \"year_old\", \"yesterday\", \"yesterday\", \"yesterday\"]}, \"R\": 30, \"lambda.step\": 0.01, \"plot.opts\": {\"xlab\": \"PC1\", \"ylab\": \"PC2\"}, \"topic.order\": [3, 2, 1]};\n",
       "\n",
       "function LDAvis_load_lib(url, callback){\n",
       "  var s = document.createElement('script');\n",
       "  s.src = url;\n",
       "  s.async = true;\n",
       "  s.onreadystatechange = s.onload = callback;\n",
       "  s.onerror = function(){console.warn(\"failed to load library \" + url);};\n",
       "  document.getElementsByTagName(\"head\")[0].appendChild(s);\n",
       "}\n",
       "\n",
       "if(typeof(LDAvis) !== \"undefined\"){\n",
       "   // already loaded: just create the visualization\n",
       "   !function(LDAvis){\n",
       "       new LDAvis(\"#\" + \"ldavis_el216821124963646644432966218\", ldavis_el216821124963646644432966218_data);\n",
       "   }(LDAvis);\n",
       "}else if(typeof define === \"function\" && define.amd){\n",
       "   // require.js is available: use it to load d3/LDAvis\n",
       "   require.config({paths: {d3: \"https://cdnjs.cloudflare.com/ajax/libs/d3/3.5.5/d3.min\"}});\n",
       "   require([\"d3\"], function(d3){\n",
       "      window.d3 = d3;\n",
       "      LDAvis_load_lib(\"https://cdn.rawgit.com/bmabey/pyLDAvis/files/ldavis.v1.0.0.js\", function(){\n",
       "        new LDAvis(\"#\" + \"ldavis_el216821124963646644432966218\", ldavis_el216821124963646644432966218_data);\n",
       "      });\n",
       "    });\n",
       "}else{\n",
       "    // require.js not available: dynamically load d3 & LDAvis\n",
       "    LDAvis_load_lib(\"https://cdnjs.cloudflare.com/ajax/libs/d3/3.5.5/d3.min.js\", function(){\n",
       "         LDAvis_load_lib(\"https://cdn.rawgit.com/bmabey/pyLDAvis/files/ldavis.v1.0.0.js\", function(){\n",
       "                 new LDAvis(\"#\" + \"ldavis_el216821124963646644432966218\", ldavis_el216821124963646644432966218_data);\n",
       "            })\n",
       "         });\n",
       "}\n",
       "</script>"
      ],
      "text/plain": [
       "PreparedData(topic_coordinates=              x         y  topics  cluster       Freq\n",
       "topic                                                \n",
       "2      0.096807  0.125935       1        1  37.390675\n",
       "1     -0.200928 -0.003019       2        1  32.614716\n",
       "0      0.104120 -0.122916       3        1  29.994610, topic_info=     Category         Freq            Term        Total  loglift  logprob\n",
       "65    Default   677.000000          arrest   677.000000  30.0000  30.0000\n",
       "123   Default   427.000000          charge   427.000000  29.0000  29.0000\n",
       "32    Default   859.000000             use   859.000000  28.0000  28.0000\n",
       "11    Default   408.000000          police   408.000000  27.0000  27.0000\n",
       "61    Default   608.000000           state   608.000000  26.0000  26.0000\n",
       "14    Default   214.000000           seize   214.000000  25.0000  25.0000\n",
       "113   Default   537.000000         medical   537.000000  24.0000  24.0000\n",
       "796   Default   224.000000      california   224.000000  23.0000  23.0000\n",
       "325   Default   253.000000             man   253.000000  22.0000  22.0000\n",
       "195   Default   355.000000             law   355.000000  21.0000  21.0000\n",
       "2570  Default   143.000000        colorado   143.000000  20.0000  20.0000\n",
       "114   Default   389.000000             new   389.000000  19.0000  19.0000\n",
       "107   Default  1267.000000            drug  1267.000000  18.0000  18.0000\n",
       "473   Default   286.000000        legalize   286.000000  17.0000  17.0000\n",
       "678   Default   303.000000           legal   303.000000  16.0000  16.0000\n",
       "564   Default   151.000000           study   151.000000  15.0000  15.0000\n",
       "261   Default   228.000000       yesterday   228.000000  14.0000  14.0000\n",
       "290   Default   148.000000          editor   148.000000  13.0000  13.0000\n",
       "74    Default   132.000000        sentence   132.000000  12.0000  12.0000\n",
       "1322  Default   102.000000            bill   102.000000  11.0000  11.0000\n",
       "619   Default   108.000000         officer   108.000000  10.0000  10.0000\n",
       "368   Default   106.000000           pound   106.000000   9.0000   9.0000\n",
       "57    Default   144.000000            raid   144.000000   8.0000   8.0000\n",
       "1632  Default   104.000000      police_say   104.000000   7.0000   7.0000\n",
       "2834  Default    95.000000        business    95.000000   6.0000   6.0000\n",
       "743   Default   117.000000            test   117.000000   5.0000   5.0000\n",
       "503   Default   207.000000    legalization   207.000000   4.0000   4.0000\n",
       "350   Default    95.000000             ton    95.000000   3.0000   3.0000\n",
       "6399  Default    83.000000        industry    83.000000   2.0000   2.0000\n",
       "3660  Default    83.000000         company    83.000000   1.0000   1.0000\n",
       "...       ...          ...             ...          ...      ...      ...\n",
       "1169   Topic3    25.744780  small_business    26.443367   1.1774  -6.9898\n",
       "4715   Topic3    27.391327         license    28.144253   1.1770  -6.9278\n",
       "796    Topic3   199.041489      california   224.119293   1.0855  -4.9446\n",
       "7549   Topic3    43.838566    recreational    46.361183   1.1482  -6.4576\n",
       "61     Topic3   467.512299           state   608.997498   0.9398  -4.0906\n",
       "295    Topic3    29.875076          oregon    31.034246   1.1661  -6.8410\n",
       "1562   Topic3    74.178818            move    85.571655   1.0613  -5.9316\n",
       "473    Topic3   189.401260        legalize   286.483643   0.7903  -4.9942\n",
       "195    Topic3   225.232330             law   355.219238   0.7485  -4.8209\n",
       "1221   Topic3    70.762604           start    88.491997   0.9806  -5.9787\n",
       "678    Topic3   183.036789           legal   303.712250   0.6978  -5.0284\n",
       "201    Topic3    93.463211            sale   128.576843   0.8852  -5.7005\n",
       "503    Topic3   135.096512    legalization   207.616837   0.7744  -5.3321\n",
       "114    Topic3   206.114822             new   389.117645   0.5687  -4.9096\n",
       "113    Topic3   249.739319         medical   537.585327   0.4375  -4.7177\n",
       "1292   Topic3    86.942078           first   123.097534   0.8564  -5.7728\n",
       "161    Topic3   110.103394           would   174.101593   0.7459  -5.5367\n",
       "25     Topic3   138.166641        new_york   307.956909   0.4027  -5.3096\n",
       "364    Topic3   120.464737            city   261.605255   0.4287  -5.4467\n",
       "84     Topic3   115.221985            make   247.305206   0.4404  -5.4912\n",
       "13     Topic3   155.880386             say   560.153748  -0.0750  -5.1890\n",
       "32     Topic3   180.220947             use   859.504944  -0.3580  -5.0439\n",
       "314    Topic3    89.086746            grow   187.502533   0.4600  -5.7485\n",
       "62     Topic3   124.536514           today   458.219727  -0.0986  -5.4135\n",
       "800    Topic3    72.398621              go   118.774887   0.7091  -5.9559\n",
       "107    Topic3   106.317993            drug  1267.267944  -1.2740  -5.5716\n",
       "127    Topic3    77.246574         federal   257.441681   0.0004  -5.8911\n",
       "149    Topic3    75.333733            year   244.605835   0.0264  -5.9161\n",
       "112    Topic3    72.908813             may   222.370285   0.0890  -5.9489\n",
       "303    Topic3    71.929329             get   149.767578   0.4708  -5.9624\n",
       "\n",
       "[205 rows x 6 columns], token_table=      Topic      Freq            Term\n",
       "term                                 \n",
       "705       1  0.985890           abuse\n",
       "300       2  0.984881          accuse\n",
       "781       1  0.978897       addiction\n",
       "544       1  0.978915  administration\n",
       "544       3  0.013788  administration\n",
       "1248      2  0.980324         airport\n",
       "1211      3  0.979768          albany\n",
       "767       1  0.991348         alcohol\n",
       "46        1  0.586001        american\n",
       "46        2  0.250122        american\n",
       "46        3  0.171512        american\n",
       "65        2  0.992081          arrest\n",
       "65        3  0.007382          arrest\n",
       "285       1  0.986266         article\n",
       "3491      2  0.977565   authority_say\n",
       "3301      3  0.967699          ballot\n",
       "1532      1  0.971441         benefit\n",
       "1322      3  0.992975            bill\n",
       "745       1  0.996122           brain\n",
       "209       2  0.987846           bronx\n",
       "301       1  0.080168        brooklyn\n",
       "301       2  0.849782        brooklyn\n",
       "301       3  0.072151        brooklyn\n",
       "2834      3  0.997070        business\n",
       "796       1  0.111548      california\n",
       "796       3  0.887920      california\n",
       "2236      1  0.982427          cancer\n",
       "211       1  0.237002            case\n",
       "211       2  0.678475            case\n",
       "211       3  0.083648            case\n",
       "...     ...       ...             ...\n",
       "1037      2  0.175278            time\n",
       "1037      3  0.237473            time\n",
       "62        1  0.266248           today\n",
       "62        2  0.462660           today\n",
       "62        3  0.272795           today\n",
       "350       2  0.996145             ton\n",
       "2246      1  0.990317           treat\n",
       "1103      1  0.991769       treatment\n",
       "329       2  0.992140           trial\n",
       "90        1  0.343472    united_state\n",
       "90        2  0.592193    united_state\n",
       "90        3  0.059219    united_state\n",
       "32        1  0.789990             use\n",
       "32        3  0.209423             use\n",
       "175       1  0.816949            user\n",
       "175       3  0.178708            user\n",
       "876       3  0.981977            vote\n",
       "3434      3  0.991611           voter\n",
       "361       2  0.991998           worth\n",
       "161       1  0.367601           would\n",
       "161       3  0.631815           would\n",
       "149       1  0.359762            year\n",
       "149       2  0.331145            year\n",
       "149       3  0.306616            year\n",
       "243       1  0.084048        year_old\n",
       "243       2  0.853410        year_old\n",
       "243       3  0.064652        year_old\n",
       "261       1  0.118261       yesterday\n",
       "261       2  0.845347       yesterday\n",
       "261       3  0.035040       yesterday\n",
       "\n",
       "[253 rows x 3 columns], R=30, lambda_step=0.01, plot_opts={'xlab': 'PC1', 'ylab': 'PC2'}, topic_order=[3, 2, 1])"
      ]
     },
     "execution_count": 33,
     "metadata": {},
     "output_type": "execute_result"
    }
   ],
   "source": [
    "# Visualize the topics\n",
    "pyLDAvis.enable_notebook()\n",
    "vis_lda = pyLDAvis.gensim.prepare(lda_model, corpus, id2word)\n",
    "vis_lda"
   ]
  },
  {
   "cell_type": "code",
   "execution_count": 34,
   "metadata": {},
   "outputs": [
    {
     "data": {
      "text/html": [
       "<div>\n",
       "<style scoped>\n",
       "    .dataframe tbody tr th:only-of-type {\n",
       "        vertical-align: middle;\n",
       "    }\n",
       "\n",
       "    .dataframe tbody tr th {\n",
       "        vertical-align: top;\n",
       "    }\n",
       "\n",
       "    .dataframe thead th {\n",
       "        text-align: right;\n",
       "    }\n",
       "</style>\n",
       "<table border=\"1\" class=\"dataframe\">\n",
       "  <thead>\n",
       "    <tr style=\"text-align: right;\">\n",
       "      <th></th>\n",
       "      <th>Article_Num</th>\n",
       "      <th>Dominant_Topic</th>\n",
       "      <th>Topic_Perc_Contrib</th>\n",
       "      <th>Keywords</th>\n",
       "      <th>Text</th>\n",
       "    </tr>\n",
       "  </thead>\n",
       "  <tbody>\n",
       "    <tr>\n",
       "      <th>0</th>\n",
       "      <td>0</td>\n",
       "      <td>1.0</td>\n",
       "      <td>0.6655</td>\n",
       "      <td>arrest, drug, charge, police, man, seize, toda...</td>\n",
       "      <td>Oklahoma Students Jailed; Raiders Seize Mariju...</td>\n",
       "    </tr>\n",
       "    <tr>\n",
       "      <th>1</th>\n",
       "      <td>1</td>\n",
       "      <td>1.0</td>\n",
       "      <td>0.7052</td>\n",
       "      <td>arrest, drug, charge, police, man, seize, toda...</td>\n",
       "      <td>Marijuana Inquiry Leads to Ousters From N.Y.U....</td>\n",
       "    </tr>\n",
       "    <tr>\n",
       "      <th>2</th>\n",
       "      <td>2</td>\n",
       "      <td>1.0</td>\n",
       "      <td>0.9827</td>\n",
       "      <td>arrest, drug, charge, police, man, seize, toda...</td>\n",
       "      <td>30 Persons Seized In Marijuana Raid On Penthou...</td>\n",
       "    </tr>\n",
       "    <tr>\n",
       "      <th>3</th>\n",
       "      <td>3</td>\n",
       "      <td>1.0</td>\n",
       "      <td>0.8237</td>\n",
       "      <td>arrest, drug, charge, police, man, seize, toda...</td>\n",
       "      <td>9 STUDENTS JAILED IN NARCOTICS RAID; Marijuana...</td>\n",
       "    </tr>\n",
       "    <tr>\n",
       "      <th>4</th>\n",
       "      <td>4</td>\n",
       "      <td>1.0</td>\n",
       "      <td>0.9263</td>\n",
       "      <td>arrest, drug, charge, police, man, seize, toda...</td>\n",
       "      <td>2 Darien Youths Are Sentenced To 4 Months in M...</td>\n",
       "    </tr>\n",
       "    <tr>\n",
       "      <th>5</th>\n",
       "      <td>5</td>\n",
       "      <td>1.0</td>\n",
       "      <td>0.9852</td>\n",
       "      <td>arrest, drug, charge, police, man, seize, toda...</td>\n",
       "      <td>3 HELD ON COAST WITH MARIJUANA; Seized Shipmen...</td>\n",
       "    </tr>\n",
       "    <tr>\n",
       "      <th>6</th>\n",
       "      <td>6</td>\n",
       "      <td>1.0</td>\n",
       "      <td>0.9710</td>\n",
       "      <td>arrest, drug, charge, police, man, seize, toda...</td>\n",
       "      <td>Marijuana Seized in Baltimore customs seizes 4...</td>\n",
       "    </tr>\n",
       "    <tr>\n",
       "      <th>7</th>\n",
       "      <td>7</td>\n",
       "      <td>2.0</td>\n",
       "      <td>0.7363</td>\n",
       "      <td>drug, use, medical, say, smoke, new, report, s...</td>\n",
       "      <td>MARIJUANA SEEN AS MEDICAL BOON; Hopes Stirred ...</td>\n",
       "    </tr>\n",
       "    <tr>\n",
       "      <th>8</th>\n",
       "      <td>8</td>\n",
       "      <td>1.0</td>\n",
       "      <td>0.8909</td>\n",
       "      <td>arrest, drug, charge, police, man, seize, toda...</td>\n",
       "      <td>Former Harvard Teacher Sent To Prison on Marij...</td>\n",
       "    </tr>\n",
       "    <tr>\n",
       "      <th>9</th>\n",
       "      <td>9</td>\n",
       "      <td>1.0</td>\n",
       "      <td>0.8456</td>\n",
       "      <td>arrest, drug, charge, police, man, seize, toda...</td>\n",
       "      <td>Leary Lawyer Gives Plans For Marijuana Appeals...</td>\n",
       "    </tr>\n",
       "  </tbody>\n",
       "</table>\n",
       "</div>"
      ],
      "text/plain": [
       "   Article_Num  Dominant_Topic  Topic_Perc_Contrib  \\\n",
       "0            0             1.0              0.6655   \n",
       "1            1             1.0              0.7052   \n",
       "2            2             1.0              0.9827   \n",
       "3            3             1.0              0.8237   \n",
       "4            4             1.0              0.9263   \n",
       "5            5             1.0              0.9852   \n",
       "6            6             1.0              0.9710   \n",
       "7            7             2.0              0.7363   \n",
       "8            8             1.0              0.8909   \n",
       "9            9             1.0              0.8456   \n",
       "\n",
       "                                            Keywords  \\\n",
       "0  arrest, drug, charge, police, man, seize, toda...   \n",
       "1  arrest, drug, charge, police, man, seize, toda...   \n",
       "2  arrest, drug, charge, police, man, seize, toda...   \n",
       "3  arrest, drug, charge, police, man, seize, toda...   \n",
       "4  arrest, drug, charge, police, man, seize, toda...   \n",
       "5  arrest, drug, charge, police, man, seize, toda...   \n",
       "6  arrest, drug, charge, police, man, seize, toda...   \n",
       "7  drug, use, medical, say, smoke, new, report, s...   \n",
       "8  arrest, drug, charge, police, man, seize, toda...   \n",
       "9  arrest, drug, charge, police, man, seize, toda...   \n",
       "\n",
       "                                                Text  \n",
       "0  Oklahoma Students Jailed; Raiders Seize Mariju...  \n",
       "1  Marijuana Inquiry Leads to Ousters From N.Y.U....  \n",
       "2  30 Persons Seized In Marijuana Raid On Penthou...  \n",
       "3  9 STUDENTS JAILED IN NARCOTICS RAID; Marijuana...  \n",
       "4  2 Darien Youths Are Sentenced To 4 Months in M...  \n",
       "5  3 HELD ON COAST WITH MARIJUANA; Seized Shipmen...  \n",
       "6  Marijuana Seized in Baltimore customs seizes 4...  \n",
       "7  MARIJUANA SEEN AS MEDICAL BOON; Hopes Stirred ...  \n",
       "8  Former Harvard Teacher Sent To Prison on Marij...  \n",
       "9  Leary Lawyer Gives Plans For Marijuana Appeals...  "
      ]
     },
     "execution_count": 34,
     "metadata": {},
     "output_type": "execute_result"
    }
   ],
   "source": [
    "#identify dominant topic for each article \n",
    "\n",
    "def format_topics_sentences(ldamodel=lda_model, corpus=corpus, texts=df_NYT['Full_Text'].tolist()):\n",
    "    # Init output\n",
    "    sent_topics_df = pd.DataFrame()\n",
    "\n",
    "    # Get main topic in each document\n",
    "    for i, row in enumerate(ldamodel[corpus]):\n",
    "        row = sorted(row[0], key=lambda x: x[1], reverse=True)\n",
    "        # Get the Dominant topic, Perc Contribution and Keywords for each document\n",
    "        for j, (topic_num, prop_topic) in enumerate(row):\n",
    "            if j == 0:  # => dominant topic\n",
    "                wp = ldamodel.show_topic(topic_num)\n",
    "                topic_keywords = \", \".join([word for word, prop in wp])\n",
    "                sent_topics_df = sent_topics_df.append(pd.Series([int(topic_num), round(prop_topic,4), topic_keywords]), ignore_index=True)\n",
    "            else:\n",
    "                break\n",
    "    sent_topics_df.columns = ['Dominant_Topic', 'Perc_Contribution', 'Topic_Keywords']\n",
    "\n",
    "    # Add original text to the end of the output\n",
    "    contents = pd.Series(texts)\n",
    "    sent_topics_df = pd.concat([sent_topics_df, contents], axis=1)\n",
    "    return(sent_topics_df)\n",
    "\n",
    "\n",
    "df_topic_sents_keywords = format_topics_sentences(ldamodel=lda_model, corpus=corpus, texts=df_NYT['Full_Text'].tolist())\n",
    "\n",
    "# Format\n",
    "df_dominant_topic = df_topic_sents_keywords.reset_index()\n",
    "df_dominant_topic.columns = ['Article_Num', 'Dominant_Topic', 'Topic_Perc_Contrib', 'Keywords', 'Text']\n",
    "\n",
    "# Show\n",
    "df_dominant_topic.head(10)"
   ]
  },
  {
   "cell_type": "code",
   "execution_count": 35,
   "metadata": {},
   "outputs": [
    {
     "data": {
      "text/plain": [
       "Dominant_Topic\n",
       "0.0    1463\n",
       "1.0    1484\n",
       "2.0    1696\n",
       "Name: Article_Num, dtype: int64"
      ]
     },
     "execution_count": 35,
     "metadata": {},
     "output_type": "execute_result"
    }
   ],
   "source": [
    "df_dominant_topic.groupby(['Dominant_Topic']).Article_Num.count()"
   ]
  },
  {
   "cell_type": "markdown",
   "metadata": {},
   "source": [
    "### Guided LDA"
   ]
  },
  {
   "cell_type": "code",
   "execution_count": 36,
   "metadata": {},
   "outputs": [],
   "source": [
    "#define seeds for Crime, Business, and Health topics\n",
    "seed_topic_list = [['arrest', 'charge', 'police', 'sentence', 'crime','underground','smuggle','seize','prosecute'],\n",
    "                   ['investment', 'company', 'industry', 'tax', 'market', 'startup', 'entrepreneur', 'recreational','business'],\n",
    "                   ['medicine', 'pain', 'medical', 'research', 'scientist', 'prescribe','health','cancer']]"
   ]
  },
  {
   "cell_type": "code",
   "execution_count": 62,
   "metadata": {},
   "outputs": [],
   "source": [
    "GLDA_model = guidedlda.GuidedLDA(n_topics=4, n_iter=100, random_state=25, refresh=20)\n",
    "\n",
    "seed_topics = {}\n",
    "for t_id, st in enumerate(seed_topic_list):\n",
    "    for word in st:\n",
    "        seed_topics[list(id2word.keys())[list(id2word.values()).index(word)]] = t_id\n",
    "\n",
    "vocab = []\n",
    "for i in range(len(id2word)):\n",
    "    vocab.append(id2word[i])       \n",
    "\n",
    "strings = [' '.join(text) for text in texts]"
   ]
  },
  {
   "cell_type": "code",
   "execution_count": 63,
   "metadata": {},
   "outputs": [],
   "source": [
    "vectorizer = CountVectorizer(vocabulary=vocab)\n",
    "vectorizer.fit(strings)\n",
    "X = vectorizer.transform(strings)"
   ]
  },
  {
   "cell_type": "code",
   "execution_count": 64,
   "metadata": {},
   "outputs": [
    {
     "data": {
      "text/plain": [
       "(4643, 11419)"
      ]
     },
     "execution_count": 64,
     "metadata": {},
     "output_type": "execute_result"
    }
   ],
   "source": [
    "X.shape"
   ]
  },
  {
   "cell_type": "code",
   "execution_count": 65,
   "metadata": {},
   "outputs": [
    {
     "name": "stdout",
     "output_type": "stream",
     "text": [
      "Topic 0: arrest drug charge police seize today yesterday man find possession case say hold year_old raid\n",
      "Topic 1: smoke new today grow say high drug find city legal get business make spot california\n",
      "Topic 2: use drug medical state law say new legalize legal editor may federal would study make\n",
      "Topic 3: drug use law say state today medical new smoke report arrest possession penalty call city\n"
     ]
    }
   ],
   "source": [
    "GLDA_model.fit(X, seed_topics=seed_topics, seed_confidence=0.5)\n",
    "\n",
    "n_top_words = 15\n",
    "topic_word = GLDA_model.topic_word_\n",
    "for i, topic_dist in enumerate(topic_word):\n",
    "    topic_words = np.array(vocab)[np.argsort(topic_dist)][:-(n_top_words+1):-1]\n",
    "    print('Topic {}: {}'.format(i, ' '.join(topic_words)))"
   ]
  },
  {
   "cell_type": "code",
   "execution_count": 41,
   "metadata": {},
   "outputs": [],
   "source": [
    "GLDA_output = []\n",
    "for doc in GLDA_model.doc_topic_:\n",
    "    GLDA_output.append(np.argmax(doc))\n",
    "\n",
    "df_GLDA = pd.Series(GLDA_output).to_frame('Guided LDA')"
   ]
  },
  {
   "cell_type": "markdown",
   "metadata": {},
   "source": [
    "### LSA"
   ]
  },
  {
   "cell_type": "code",
   "execution_count": 42,
   "metadata": {},
   "outputs": [],
   "source": [
    "# Build LSA model\n",
    "\n",
    "LSA_model = gensim.models.lsimodel.LsiModel(corpus=corpus,\n",
    "                                            id2word=id2word,\n",
    "                                            num_topics=10\n",
    "                                           )"
   ]
  },
  {
   "cell_type": "code",
   "execution_count": 43,
   "metadata": {},
   "outputs": [
    {
     "name": "stdout",
     "output_type": "stream",
     "text": [
      "[(0,\n",
      "  '0.767*\"drug\" + 0.188*\"use\" + 0.156*\"treatment\" + 0.152*\"alcohol\" + '\n",
      "  '0.124*\"year\" + 0.121*\"welfare\" + 0.098*\"state\" + 0.096*\"child\" + '\n",
      "  '0.084*\"care\" + 0.077*\"arrest\"'),\n",
      " (1,\n",
      "  '0.458*\"use\" + 0.296*\"arrest\" + 0.267*\"state\" + 0.228*\"say\" + '\n",
      "  '0.188*\"medical\" + -0.188*\"drug\" + 0.173*\"charge\" + 0.173*\"police\" + '\n",
      "  '0.165*\"today\" + -0.141*\"treatment\"'),\n",
      " (2,\n",
      "  '-0.557*\"arrest\" + 0.541*\"use\" + -0.293*\"charge\" + -0.258*\"police\" + '\n",
      "  '0.220*\"medical\" + 0.119*\"state\" + -0.104*\"man\" + -0.104*\"yesterday\" + '\n",
      "  '-0.103*\"seize\" + 0.093*\"law\"'),\n",
      " (3,\n",
      "  '-0.604*\"state\" + 0.508*\"use\" + -0.269*\"law\" + -0.247*\"medical\" + '\n",
      "  '0.180*\"drug\" + -0.113*\"new\" + -0.108*\"legalize\" + 0.084*\"arrest\" + '\n",
      "  '-0.083*\"california\" + 0.077*\"charge\"'),\n",
      " (4,\n",
      "  '0.401*\"medical\" + -0.398*\"say\" + 0.390*\"arrest\" + -0.294*\"drug\" + '\n",
      "  '0.240*\"use\" + -0.161*\"today\" + 0.151*\"treatment\" + 0.127*\"alcohol\" + '\n",
      "  '-0.124*\"state\" + 0.119*\"welfare\"'),\n",
      " (5,\n",
      "  '-0.526*\"say\" + 0.364*\"drug\" + 0.269*\"medical\" + 0.192*\"law\" + 0.169*\"state\" '\n",
      "  '+ 0.153*\"charge\" + -0.151*\"smoke\" + -0.134*\"alcohol\" + -0.126*\"year\" + '\n",
      "  '-0.121*\"treatment\"'),\n",
      " (6,\n",
      "  '0.683*\"medical\" + -0.450*\"state\" + 0.293*\"say\" + -0.253*\"use\" + '\n",
      "  '-0.123*\"arrest\" + -0.109*\"law\" + 0.100*\"drug\" + -0.077*\"police\" + '\n",
      "  '0.076*\"new\" + 0.070*\"editor\"'),\n",
      " (7,\n",
      "  '0.465*\"charge\" + 0.383*\"today\" + -0.334*\"arrest\" + -0.253*\"say\" + '\n",
      "  '-0.193*\"police\" + 0.193*\"possession\" + -0.181*\"drug\" + 0.171*\"man\" + '\n",
      "  '-0.168*\"state\" + 0.167*\"sentence\"'),\n",
      " (8,\n",
      "  '-0.509*\"police\" + 0.372*\"say\" + 0.313*\"arrest\" + -0.297*\"find\" + '\n",
      "  '0.275*\"charge\" + -0.205*\"seize\" + 0.165*\"law\" + -0.163*\"man\" + '\n",
      "  '0.145*\"possession\" + -0.141*\"today\"'),\n",
      " (9,\n",
      "  '-0.680*\"law\" + 0.387*\"state\" + 0.327*\"charge\" + -0.206*\"new\" + '\n",
      "  '-0.139*\"arrest\" + -0.138*\"smoke\" + 0.118*\"medical\" + -0.107*\"study\" + '\n",
      "  '0.098*\"say\" + 0.093*\"legalize\"')]\n"
     ]
    }
   ],
   "source": [
    "# Print the keywords in the topics\n",
    "pprint(LSA_model.print_topics())\n",
    "doc_LSA = LSA_model[corpus]\n",
    "labels = [e[:30]+\"...\" for e in df_NYT['Full_Text'].tolist()]"
   ]
  },
  {
   "cell_type": "code",
   "execution_count": 44,
   "metadata": {},
   "outputs": [],
   "source": [
    "num_topics = len(LSA_model.print_topics())\n",
    "labels = np.asarray(['PC '+str(i) for i in range(num_topics)])"
   ]
  },
  {
   "cell_type": "code",
   "execution_count": 45,
   "metadata": {},
   "outputs": [],
   "source": [
    "df_LSA = pd.DataFrame(columns=labels)\n",
    "\n",
    "for i,row in enumerate(doc_LSA):\n",
    "    fixed_row = []\n",
    "    for k in range(num_topics):\n",
    "        try:\n",
    "            fixed_row.append(doc_LSA[i][k][1])\n",
    "        except: print('i=',i,' row=',row)\n",
    "    df_row_to_add = pd.DataFrame([fixed_row], columns=labels)\n",
    "    df_LSA = df_LSA.append(df_row_to_add, ignore_index=True) "
   ]
  },
  {
   "cell_type": "code",
   "execution_count": 46,
   "metadata": {},
   "outputs": [
    {
     "data": {
      "text/html": [
       "<div>\n",
       "<style scoped>\n",
       "    .dataframe tbody tr th:only-of-type {\n",
       "        vertical-align: middle;\n",
       "    }\n",
       "\n",
       "    .dataframe tbody tr th {\n",
       "        vertical-align: top;\n",
       "    }\n",
       "\n",
       "    .dataframe thead th {\n",
       "        text-align: right;\n",
       "    }\n",
       "</style>\n",
       "<table border=\"1\" class=\"dataframe\">\n",
       "  <thead>\n",
       "    <tr style=\"text-align: right;\">\n",
       "      <th></th>\n",
       "      <th>PC 0</th>\n",
       "      <th>PC 1</th>\n",
       "      <th>PC 2</th>\n",
       "      <th>PC 3</th>\n",
       "      <th>PC 4</th>\n",
       "      <th>PC 5</th>\n",
       "      <th>PC 6</th>\n",
       "      <th>PC 7</th>\n",
       "      <th>PC 8</th>\n",
       "      <th>PC 9</th>\n",
       "    </tr>\n",
       "  </thead>\n",
       "  <tbody>\n",
       "    <tr>\n",
       "      <th>2309</th>\n",
       "      <td>67.092986</td>\n",
       "      <td>-19.511069</td>\n",
       "      <td>0.727931</td>\n",
       "      <td>-3.748688</td>\n",
       "      <td>7.324954</td>\n",
       "      <td>-5.861136</td>\n",
       "      <td>-2.405971</td>\n",
       "      <td>1.830421</td>\n",
       "      <td>0.329802</td>\n",
       "      <td>1.065923</td>\n",
       "    </tr>\n",
       "  </tbody>\n",
       "</table>\n",
       "</div>"
      ],
      "text/plain": [
       "           PC 0       PC 1      PC 2      PC 3      PC 4      PC 5      PC 6  \\\n",
       "2309  67.092986 -19.511069  0.727931 -3.748688  7.324954 -5.861136 -2.405971   \n",
       "\n",
       "          PC 7      PC 8      PC 9  \n",
       "2309  1.830421  0.329802  1.065923  "
      ]
     },
     "execution_count": 46,
     "metadata": {},
     "output_type": "execute_result"
    }
   ],
   "source": [
    "df_LSA[df_LSA['PC 0']>50]"
   ]
  },
  {
   "cell_type": "code",
   "execution_count": 47,
   "metadata": {},
   "outputs": [],
   "source": [
    "#sns.pairplot(df_LSA)"
   ]
  },
  {
   "cell_type": "code",
   "execution_count": 48,
   "metadata": {},
   "outputs": [],
   "source": [
    "km = KMeans(n_clusters=5,random_state=10)"
   ]
  },
  {
   "cell_type": "code",
   "execution_count": 49,
   "metadata": {},
   "outputs": [
    {
     "data": {
      "text/plain": [
       "KMeans(algorithm='auto', copy_x=True, init='k-means++', max_iter=300,\n",
       "    n_clusters=5, n_init=10, n_jobs=None, precompute_distances='auto',\n",
       "    random_state=10, tol=0.0001, verbose=0)"
      ]
     },
     "execution_count": 49,
     "metadata": {},
     "output_type": "execute_result"
    }
   ],
   "source": [
    "km.fit(df_LSA)"
   ]
  },
  {
   "cell_type": "code",
   "execution_count": 50,
   "metadata": {},
   "outputs": [
    {
     "data": {
      "text/plain": [
       "array([[ 2.06957547e-01,  3.10135472e-01, -1.90711202e-02,\n",
       "        -2.46936755e-01, -4.37953201e-02, -1.46506335e-01,\n",
       "         9.65963130e-02,  1.24729267e-01, -8.81192761e-02,\n",
       "        -2.97878267e-02],\n",
       "       [ 6.70929856e+01, -1.95110685e+01,  7.27931290e-01,\n",
       "        -3.74868753e+00,  7.32495393e+00, -5.86113593e+00,\n",
       "        -2.40597125e+00,  1.83042118e+00,  3.29802323e-01,\n",
       "         1.06592341e+00],\n",
       "       [ 7.62448611e-01,  9.53984710e-01,  7.60308044e-01,\n",
       "         4.06540341e-01,  1.95422000e-01, -4.91249226e-02,\n",
       "        -1.23824355e-01,  3.59687947e-02,  1.66832121e-02,\n",
       "         2.81392509e-02],\n",
       "       [ 5.45845600e-01,  8.18229193e-01, -1.11269382e+00,\n",
       "         9.11582334e-02,  4.10566131e-01,  2.00480579e-02,\n",
       "        -1.02716129e-01, -1.81230223e-01,  1.84153819e-01,\n",
       "        -6.13459620e-02],\n",
       "       [ 1.36941812e+00,  2.23958867e-01, -1.53461843e-01,\n",
       "         4.59802917e-02, -4.92802947e-01,  3.52045288e-01,\n",
       "         2.09659574e-01, -5.38309074e-02, -6.16975085e-02,\n",
       "        -2.98756159e-02]])"
      ]
     },
     "execution_count": 50,
     "metadata": {},
     "output_type": "execute_result"
    }
   ],
   "source": [
    "km.cluster_centers_"
   ]
  },
  {
   "cell_type": "code",
   "execution_count": 51,
   "metadata": {},
   "outputs": [
    {
     "data": {
      "text/plain": [
       "4643"
      ]
     },
     "execution_count": 51,
     "metadata": {},
     "output_type": "execute_result"
    }
   ],
   "source": [
    "len(km.labels_)"
   ]
  },
  {
   "cell_type": "code",
   "execution_count": 52,
   "metadata": {},
   "outputs": [],
   "source": [
    "df_LSA = pd.Series(km.labels_).to_frame('LSA+KMeans')"
   ]
  },
  {
   "cell_type": "markdown",
   "metadata": {},
   "source": [
    "### Transfer all outputs to Tableau for visualization"
   ]
  },
  {
   "cell_type": "code",
   "execution_count": 66,
   "metadata": {},
   "outputs": [],
   "source": [
    "#LDA\n",
    "df_output = df_NYT.join(df_dominant_topic[['Dominant_Topic','Topic_Perc_Contrib']])\n",
    "df_output.rename(columns={'Dominant_Topic':'LDA'}, inplace=True)"
   ]
  },
  {
   "cell_type": "code",
   "execution_count": 67,
   "metadata": {},
   "outputs": [],
   "source": [
    "#Guided LDA\n",
    "df_output = df_output.join(df_GLDA)"
   ]
  },
  {
   "cell_type": "code",
   "execution_count": 68,
   "metadata": {},
   "outputs": [],
   "source": [
    "#LSA + KMeans Clustering\n",
    "df_output = df_output.join(df_LSA)"
   ]
  },
  {
   "cell_type": "code",
   "execution_count": 69,
   "metadata": {},
   "outputs": [
    {
     "data": {
      "text/html": [
       "<div>\n",
       "<style scoped>\n",
       "    .dataframe tbody tr th:only-of-type {\n",
       "        vertical-align: middle;\n",
       "    }\n",
       "\n",
       "    .dataframe tbody tr th {\n",
       "        vertical-align: top;\n",
       "    }\n",
       "\n",
       "    .dataframe thead th {\n",
       "        text-align: right;\n",
       "    }\n",
       "</style>\n",
       "<table border=\"1\" class=\"dataframe\">\n",
       "  <thead>\n",
       "    <tr style=\"text-align: right;\">\n",
       "      <th></th>\n",
       "      <th>Section</th>\n",
       "      <th>Date</th>\n",
       "      <th>Full_Text</th>\n",
       "      <th>LDA</th>\n",
       "      <th>Topic_Perc_Contrib</th>\n",
       "      <th>Guided LDA</th>\n",
       "      <th>LSA+KMeans</th>\n",
       "    </tr>\n",
       "  </thead>\n",
       "  <tbody>\n",
       "    <tr>\n",
       "      <th>0</th>\n",
       "      <td></td>\n",
       "      <td>1966-01-09</td>\n",
       "      <td>Oklahoma Students Jailed; Raiders Seize Mariju...</td>\n",
       "      <td>1.0</td>\n",
       "      <td>0.6655</td>\n",
       "      <td>3.0</td>\n",
       "      <td>0.0</td>\n",
       "    </tr>\n",
       "    <tr>\n",
       "      <th>1</th>\n",
       "      <td></td>\n",
       "      <td>1966-01-18</td>\n",
       "      <td>Marijuana Inquiry Leads to Ousters From N.Y.U....</td>\n",
       "      <td>1.0</td>\n",
       "      <td>0.7052</td>\n",
       "      <td>0.0</td>\n",
       "      <td>2.0</td>\n",
       "    </tr>\n",
       "    <tr>\n",
       "      <th>2</th>\n",
       "      <td></td>\n",
       "      <td>1966-01-23</td>\n",
       "      <td>30 Persons Seized In Marijuana Raid On Penthou...</td>\n",
       "      <td>1.0</td>\n",
       "      <td>0.9827</td>\n",
       "      <td>0.0</td>\n",
       "      <td>0.0</td>\n",
       "    </tr>\n",
       "    <tr>\n",
       "      <th>3</th>\n",
       "      <td></td>\n",
       "      <td>1966-02-09</td>\n",
       "      <td>9 STUDENTS JAILED IN NARCOTICS RAID; Marijuana...</td>\n",
       "      <td>1.0</td>\n",
       "      <td>0.8237</td>\n",
       "      <td>0.0</td>\n",
       "      <td>0.0</td>\n",
       "    </tr>\n",
       "    <tr>\n",
       "      <th>4</th>\n",
       "      <td></td>\n",
       "      <td>1966-02-10</td>\n",
       "      <td>2 Darien Youths Are Sentenced To 4 Months in M...</td>\n",
       "      <td>1.0</td>\n",
       "      <td>0.9263</td>\n",
       "      <td>0.0</td>\n",
       "      <td>3.0</td>\n",
       "    </tr>\n",
       "  </tbody>\n",
       "</table>\n",
       "</div>"
      ],
      "text/plain": [
       "  Section       Date                                          Full_Text  LDA  \\\n",
       "0         1966-01-09  Oklahoma Students Jailed; Raiders Seize Mariju...  1.0   \n",
       "1         1966-01-18  Marijuana Inquiry Leads to Ousters From N.Y.U....  1.0   \n",
       "2         1966-01-23  30 Persons Seized In Marijuana Raid On Penthou...  1.0   \n",
       "3         1966-02-09  9 STUDENTS JAILED IN NARCOTICS RAID; Marijuana...  1.0   \n",
       "4         1966-02-10  2 Darien Youths Are Sentenced To 4 Months in M...  1.0   \n",
       "\n",
       "   Topic_Perc_Contrib  Guided LDA  LSA+KMeans  \n",
       "0              0.6655         3.0         0.0  \n",
       "1              0.7052         0.0         2.0  \n",
       "2              0.9827         0.0         0.0  \n",
       "3              0.8237         0.0         0.0  \n",
       "4              0.9263         0.0         3.0  "
      ]
     },
     "execution_count": 69,
     "metadata": {},
     "output_type": "execute_result"
    }
   ],
   "source": [
    "df_output.drop(columns=['Work_Text'],inplace=True)\n",
    "df_output.head()"
   ]
  },
  {
   "cell_type": "code",
   "execution_count": 70,
   "metadata": {},
   "outputs": [],
   "source": [
    "df_output.to_csv(path_or_buf ='df_output.csv', index=False)"
   ]
  },
  {
   "cell_type": "code",
   "execution_count": null,
   "metadata": {},
   "outputs": [],
   "source": []
  }
 ],
 "metadata": {
  "kernelspec": {
   "display_name": "Python 3",
   "language": "python",
   "name": "python3"
  },
  "language_info": {
   "codemirror_mode": {
    "name": "ipython",
    "version": 3
   },
   "file_extension": ".py",
   "mimetype": "text/x-python",
   "name": "python",
   "nbconvert_exporter": "python",
   "pygments_lexer": "ipython3",
   "version": "3.6.7"
  }
 },
 "nbformat": 4,
 "nbformat_minor": 2
}
